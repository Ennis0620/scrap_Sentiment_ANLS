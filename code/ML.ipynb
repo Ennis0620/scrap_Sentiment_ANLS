{
 "metadata": {
  "language_info": {
   "codemirror_mode": {
    "name": "ipython",
    "version": 3
   },
   "file_extension": ".py",
   "mimetype": "text/x-python",
   "name": "python",
   "nbconvert_exporter": "python",
   "pygments_lexer": "ipython3",
   "version": "3.8.6"
  },
  "orig_nbformat": 4,
  "kernelspec": {
   "name": "python3",
   "display_name": "Python 3.8.6 64-bit"
  },
  "interpreter": {
   "hash": "f23faf4bfe871c203c8bec80520af5927fc7cb1ae3bd834ddf554ee587ad1c05"
  }
 },
 "nbformat": 4,
 "nbformat_minor": 2,
 "cells": [
  {
   "cell_type": "code",
   "execution_count": 1,
   "metadata": {},
   "outputs": [
    {
     "output_type": "stream",
     "name": "stderr",
     "text": [
      "Building prefix dict from the default dictionary ...\n",
      "Loading model from cache C:\\Users\\user\\AppData\\Local\\Temp\\jieba.cache\n",
      "Loading model cost 0.488 seconds.\n",
      "Prefix dict has been built successfully.\n"
     ]
    }
   ],
   "source": [
    "from snownlp import SnowNLP\n",
    "import jieba\n",
    "from snownlp import sentiment\n",
    "import pandas as pd\n",
    "import matplotlib.pyplot as plt \n",
    "import numpy as np\n",
    "\n",
    "\n",
    "#讓用語更接近台灣\n",
    "jieba.load_userdict('lexicon_dict.txt')\n",
    "#停用字字典\n",
    "stopwords_dic = 'stopword.txt'\n",
    "\n",
    "df_Tainan = pd.read_csv('dataset_Tainan_test.csv')\n",
    "df_Taichung = pd.read_csv('dataset_Taichung.csv')\n",
    "df_Taipei = pd.read_csv('dataset_Taipei.csv')\n",
    "\n",
    "df_Taipei.columns = ['飯店','評分','評論']\n",
    "df_Taichung.columns = ['飯店','評分','評論']\n",
    "df_Tainan.columns = ['飯店','評分','評論']"
   ]
  },
  {
   "cell_type": "code",
   "execution_count": 2,
   "metadata": {},
   "outputs": [
    {
     "output_type": "execute_result",
     "data": {
      "text/plain": [
       "                                     飯店  評分  \\\n",
       "0             喜瑞飯店 (中山區) Ambience Hotel   5   \n",
       "1             喜瑞飯店 (中山區) Ambience Hotel   5   \n",
       "2             喜瑞飯店 (中山區) Ambience Hotel   5   \n",
       "3             喜瑞飯店 (中山區) Ambience Hotel   5   \n",
       "4             喜瑞飯店 (中山區) Ambience Hotel   5   \n",
       "...                                 ...  ..   \n",
       "14286  寒舍艾麗酒店 (信義區) Humble House Taipei   5   \n",
       "14287  寒舍艾麗酒店 (信義區) Humble House Taipei   1   \n",
       "14288  寒舍艾麗酒店 (信義區) Humble House Taipei   5   \n",
       "14289  寒舍艾麗酒店 (信義區) Humble House Taipei   3   \n",
       "14290  寒舍艾麗酒店 (信義區) Humble House Taipei   5   \n",
       "\n",
       "                                                      評論  \n",
       "0      親切熱心耐心的服務，很棒，房間很乾淨，周邊購物方便，加上有洗衣間很方便，彷彿到了去日本度假的...  \n",
       "1      <<優質的飯店>>  親切貼心、乾淨整潔、 交通方便、早餐美味、 採光明亮、我給十分。  因...  \n",
       "2      環境乾淨整潔，客房不大但是感覺明亮寬敞。 謝謝櫃檯Mei跟Winni的小卡片，以及Cate跟...  \n",
       "3      櫃檯服務人員親切又用心，Winni.LIn櫃檯人員很棒👍👍,住宿整體感覺很棒 又乾淨 浴室風...  \n",
       "4      非常謝謝整間飯店給予的生日驚喜，尤其是可愛的櫃檯小姐、友善的房務阿姨，這真的是史上最棒的生日...  \n",
       "...                                                  ...  \n",
       "14286  入住時，辦理手續非常迅速。可惜的是因為疫情客人不多只開放到16F。被升等到101景觀房，10...  \n",
       "14287  我於7/11入住此飯店，7/12 12:30退房。 晚上回家看手機收到信用卡通知 7/12 ...  \n",
       "14288  停車需和商場停車一起共用是小缺點，若遇到車多時刻就需要排隊。櫃檯人員很親切，房間大小適中且乾...  \n",
       "14289  因為疫情關係連帶影響品質？理解疫情影響許多產業，想減少虧損，但和以往入住幾次的經驗相比，近期...  \n",
       "14290  飯店位置絕佳，位於信義商圈精華地段，附近百貨、飲食選擇眾多，適合愛逛街的旅客。入住時選擇了櫃...  \n",
       "\n",
       "[14291 rows x 3 columns]"
      ],
      "text/html": "<div>\n<style scoped>\n    .dataframe tbody tr th:only-of-type {\n        vertical-align: middle;\n    }\n\n    .dataframe tbody tr th {\n        vertical-align: top;\n    }\n\n    .dataframe thead th {\n        text-align: right;\n    }\n</style>\n<table border=\"1\" class=\"dataframe\">\n  <thead>\n    <tr style=\"text-align: right;\">\n      <th></th>\n      <th>飯店</th>\n      <th>評分</th>\n      <th>評論</th>\n    </tr>\n  </thead>\n  <tbody>\n    <tr>\n      <th>0</th>\n      <td>喜瑞飯店 (中山區) Ambience Hotel</td>\n      <td>5</td>\n      <td>親切熱心耐心的服務，很棒，房間很乾淨，周邊購物方便，加上有洗衣間很方便，彷彿到了去日本度假的...</td>\n    </tr>\n    <tr>\n      <th>1</th>\n      <td>喜瑞飯店 (中山區) Ambience Hotel</td>\n      <td>5</td>\n      <td>&lt;&lt;優質的飯店&gt;&gt;  親切貼心、乾淨整潔、 交通方便、早餐美味、 採光明亮、我給十分。  因...</td>\n    </tr>\n    <tr>\n      <th>2</th>\n      <td>喜瑞飯店 (中山區) Ambience Hotel</td>\n      <td>5</td>\n      <td>環境乾淨整潔，客房不大但是感覺明亮寬敞。 謝謝櫃檯Mei跟Winni的小卡片，以及Cate跟...</td>\n    </tr>\n    <tr>\n      <th>3</th>\n      <td>喜瑞飯店 (中山區) Ambience Hotel</td>\n      <td>5</td>\n      <td>櫃檯服務人員親切又用心，Winni.LIn櫃檯人員很棒👍👍,住宿整體感覺很棒 又乾淨 浴室風...</td>\n    </tr>\n    <tr>\n      <th>4</th>\n      <td>喜瑞飯店 (中山區) Ambience Hotel</td>\n      <td>5</td>\n      <td>非常謝謝整間飯店給予的生日驚喜，尤其是可愛的櫃檯小姐、友善的房務阿姨，這真的是史上最棒的生日...</td>\n    </tr>\n    <tr>\n      <th>...</th>\n      <td>...</td>\n      <td>...</td>\n      <td>...</td>\n    </tr>\n    <tr>\n      <th>14286</th>\n      <td>寒舍艾麗酒店 (信義區) Humble House Taipei</td>\n      <td>5</td>\n      <td>入住時，辦理手續非常迅速。可惜的是因為疫情客人不多只開放到16F。被升等到101景觀房，10...</td>\n    </tr>\n    <tr>\n      <th>14287</th>\n      <td>寒舍艾麗酒店 (信義區) Humble House Taipei</td>\n      <td>1</td>\n      <td>我於7/11入住此飯店，7/12 12:30退房。 晚上回家看手機收到信用卡通知 7/12 ...</td>\n    </tr>\n    <tr>\n      <th>14288</th>\n      <td>寒舍艾麗酒店 (信義區) Humble House Taipei</td>\n      <td>5</td>\n      <td>停車需和商場停車一起共用是小缺點，若遇到車多時刻就需要排隊。櫃檯人員很親切，房間大小適中且乾...</td>\n    </tr>\n    <tr>\n      <th>14289</th>\n      <td>寒舍艾麗酒店 (信義區) Humble House Taipei</td>\n      <td>3</td>\n      <td>因為疫情關係連帶影響品質？理解疫情影響許多產業，想減少虧損，但和以往入住幾次的經驗相比，近期...</td>\n    </tr>\n    <tr>\n      <th>14290</th>\n      <td>寒舍艾麗酒店 (信義區) Humble House Taipei</td>\n      <td>5</td>\n      <td>飯店位置絕佳，位於信義商圈精華地段，附近百貨、飲食選擇眾多，適合愛逛街的旅客。入住時選擇了櫃...</td>\n    </tr>\n  </tbody>\n</table>\n<p>14291 rows × 3 columns</p>\n</div>"
     },
     "metadata": {},
     "execution_count": 2
    }
   ],
   "source": [
    "df_Taipei"
   ]
  },
  {
   "cell_type": "code",
   "execution_count": 3,
   "metadata": {},
   "outputs": [
    {
     "output_type": "execute_result",
     "data": {
      "text/plain": [
       "                                                   飯店  評分  \\\n",
       "0                           喜瑞飯店 (中山區) Ambience Hotel   5   \n",
       "1                           喜瑞飯店 (中山區) Ambience Hotel   5   \n",
       "2                           喜瑞飯店 (中山區) Ambience Hotel   5   \n",
       "3                           喜瑞飯店 (中山區) Ambience Hotel   5   \n",
       "4                           喜瑞飯店 (中山區) Ambience Hotel   5   \n",
       "...                                               ...  ..   \n",
       "42226                    我小時候 (安平) Wikid Design Hotel   5   \n",
       "42227  新大南科大飯店 (新市) Sendale Tainan Science Park Hotel   2   \n",
       "42228  新大南科大飯店 (新市) Sendale Tainan Science Park Hotel   1   \n",
       "42229  新大南科大飯店 (新市) Sendale Tainan Science Park Hotel   3   \n",
       "42230  新大南科大飯店 (新市) Sendale Tainan Science Park Hotel   3   \n",
       "\n",
       "                                                      評論  \n",
       "0      親切熱心耐心的服務，很棒，房間很乾淨，周邊購物方便，加上有洗衣間很方便，彷彿到了去日本度假的...  \n",
       "1      <<優質的飯店>>  親切貼心、乾淨整潔、 交通方便、早餐美味、 採光明亮、我給十分。  因...  \n",
       "2      環境乾淨整潔，客房不大但是感覺明亮寬敞。 謝謝櫃檯Mei跟Winni的小卡片，以及Cate跟...  \n",
       "3      櫃檯服務人員親切又用心，Winni.LIn櫃檯人員很棒👍👍,住宿整體感覺很棒 又乾淨 浴室風...  \n",
       "4      非常謝謝整間飯店給予的生日驚喜，尤其是可愛的櫃檯小姐、友善的房務阿姨，這真的是史上最棒的生日...  \n",
       "...                                                  ...  \n",
       "42226  我在這裏住了兩個晚上是在七月。 這是一個甜b&b位於安平。 大約從臺南火車站10分鐘車程。 ...  \n",
       "42227  晚上七點回到飯店,就可以聽到隔壁房間電視的聲音,仔細聽還可以分辨出是在看哪一台,然後最誇張的...  \n",
       "42228  這是一次令人不滿意的住宿體驗，甚至於讓我感到憤怒；我曾經在全世界數十個國家旅行，包含一些經濟...  \n",
       "42229  櫃檯人員服務親切，離夜市很近，早餐美味可口，若在台南市區找不到飯店的，可以考慮選擇入住，令人...  \n",
       "42230  飯店大廳算氣派，房間還算乾淨，不過早餐就有很大進步空間，白粥，吐司是基本款，可是可以配的菜色...  \n",
       "\n",
       "[42231 rows x 3 columns]"
      ],
      "text/html": "<div>\n<style scoped>\n    .dataframe tbody tr th:only-of-type {\n        vertical-align: middle;\n    }\n\n    .dataframe tbody tr th {\n        vertical-align: top;\n    }\n\n    .dataframe thead th {\n        text-align: right;\n    }\n</style>\n<table border=\"1\" class=\"dataframe\">\n  <thead>\n    <tr style=\"text-align: right;\">\n      <th></th>\n      <th>飯店</th>\n      <th>評分</th>\n      <th>評論</th>\n    </tr>\n  </thead>\n  <tbody>\n    <tr>\n      <th>0</th>\n      <td>喜瑞飯店 (中山區) Ambience Hotel</td>\n      <td>5</td>\n      <td>親切熱心耐心的服務，很棒，房間很乾淨，周邊購物方便，加上有洗衣間很方便，彷彿到了去日本度假的...</td>\n    </tr>\n    <tr>\n      <th>1</th>\n      <td>喜瑞飯店 (中山區) Ambience Hotel</td>\n      <td>5</td>\n      <td>&lt;&lt;優質的飯店&gt;&gt;  親切貼心、乾淨整潔、 交通方便、早餐美味、 採光明亮、我給十分。  因...</td>\n    </tr>\n    <tr>\n      <th>2</th>\n      <td>喜瑞飯店 (中山區) Ambience Hotel</td>\n      <td>5</td>\n      <td>環境乾淨整潔，客房不大但是感覺明亮寬敞。 謝謝櫃檯Mei跟Winni的小卡片，以及Cate跟...</td>\n    </tr>\n    <tr>\n      <th>3</th>\n      <td>喜瑞飯店 (中山區) Ambience Hotel</td>\n      <td>5</td>\n      <td>櫃檯服務人員親切又用心，Winni.LIn櫃檯人員很棒👍👍,住宿整體感覺很棒 又乾淨 浴室風...</td>\n    </tr>\n    <tr>\n      <th>4</th>\n      <td>喜瑞飯店 (中山區) Ambience Hotel</td>\n      <td>5</td>\n      <td>非常謝謝整間飯店給予的生日驚喜，尤其是可愛的櫃檯小姐、友善的房務阿姨，這真的是史上最棒的生日...</td>\n    </tr>\n    <tr>\n      <th>...</th>\n      <td>...</td>\n      <td>...</td>\n      <td>...</td>\n    </tr>\n    <tr>\n      <th>42226</th>\n      <td>我小時候 (安平) Wikid Design Hotel</td>\n      <td>5</td>\n      <td>我在這裏住了兩個晚上是在七月。 這是一個甜b&amp;b位於安平。 大約從臺南火車站10分鐘車程。 ...</td>\n    </tr>\n    <tr>\n      <th>42227</th>\n      <td>新大南科大飯店 (新市) Sendale Tainan Science Park Hotel</td>\n      <td>2</td>\n      <td>晚上七點回到飯店,就可以聽到隔壁房間電視的聲音,仔細聽還可以分辨出是在看哪一台,然後最誇張的...</td>\n    </tr>\n    <tr>\n      <th>42228</th>\n      <td>新大南科大飯店 (新市) Sendale Tainan Science Park Hotel</td>\n      <td>1</td>\n      <td>這是一次令人不滿意的住宿體驗，甚至於讓我感到憤怒；我曾經在全世界數十個國家旅行，包含一些經濟...</td>\n    </tr>\n    <tr>\n      <th>42229</th>\n      <td>新大南科大飯店 (新市) Sendale Tainan Science Park Hotel</td>\n      <td>3</td>\n      <td>櫃檯人員服務親切，離夜市很近，早餐美味可口，若在台南市區找不到飯店的，可以考慮選擇入住，令人...</td>\n    </tr>\n    <tr>\n      <th>42230</th>\n      <td>新大南科大飯店 (新市) Sendale Tainan Science Park Hotel</td>\n      <td>3</td>\n      <td>飯店大廳算氣派，房間還算乾淨，不過早餐就有很大進步空間，白粥，吐司是基本款，可是可以配的菜色...</td>\n    </tr>\n  </tbody>\n</table>\n<p>42231 rows × 3 columns</p>\n</div>"
     },
     "metadata": {},
     "execution_count": 3
    }
   ],
   "source": [
    "#整合成一個Dataframe\n",
    "df_temp = df_Taipei.append(df_Taichung,ignore_index=True)\n",
    "df = df_temp.append(df_Tainan,ignore_index=True)\n",
    "df"
   ]
  },
  {
   "cell_type": "code",
   "execution_count": 4,
   "metadata": {},
   "outputs": [
    {
     "output_type": "execute_result",
     "data": {
      "text/plain": [
       "5    28811\n",
       "4     9969\n",
       "3     2327\n",
       "2      572\n",
       "1      552\n",
       "Name: 評分, dtype: int64"
      ]
     },
     "metadata": {},
     "execution_count": 4
    }
   ],
   "source": [
    "#看一下評分數量分布\n",
    "df['評分'].value_counts()"
   ]
  },
  {
   "cell_type": "code",
   "execution_count": 5,
   "metadata": {},
   "outputs": [
    {
     "output_type": "execute_result",
     "data": {
      "text/plain": [
       "<AxesSubplot:>"
      ]
     },
     "metadata": {},
     "execution_count": 5
    },
    {
     "output_type": "display_data",
     "data": {
      "text/plain": "<Figure size 432x288 with 1 Axes>",
      "image/svg+xml": "<?xml version=\"1.0\" encoding=\"utf-8\" standalone=\"no\"?>\r\n<!DOCTYPE svg PUBLIC \"-//W3C//DTD SVG 1.1//EN\"\r\n  \"http://www.w3.org/Graphics/SVG/1.1/DTD/svg11.dtd\">\r\n<svg height=\"247.193645pt\" version=\"1.1\" viewBox=\"0 0 388.0125 247.193645\" width=\"388.0125pt\" xmlns=\"http://www.w3.org/2000/svg\" xmlns:xlink=\"http://www.w3.org/1999/xlink\">\r\n <metadata>\r\n  <rdf:RDF xmlns:cc=\"http://creativecommons.org/ns#\" xmlns:dc=\"http://purl.org/dc/elements/1.1/\" xmlns:rdf=\"http://www.w3.org/1999/02/22-rdf-syntax-ns#\">\r\n   <cc:Work>\r\n    <dc:type rdf:resource=\"http://purl.org/dc/dcmitype/StillImage\"/>\r\n    <dc:date>2021-06-25T09:39:03.968084</dc:date>\r\n    <dc:format>image/svg+xml</dc:format>\r\n    <dc:creator>\r\n     <cc:Agent>\r\n      <dc:title>Matplotlib v3.4.0, https://matplotlib.org/</dc:title>\r\n     </cc:Agent>\r\n    </dc:creator>\r\n   </cc:Work>\r\n  </rdf:RDF>\r\n </metadata>\r\n <defs>\r\n  <style type=\"text/css\">*{stroke-linecap:butt;stroke-linejoin:round;}</style>\r\n </defs>\r\n <g id=\"figure_1\">\r\n  <g id=\"patch_1\">\r\n   <path d=\"M 0 247.193645 \r\nL 388.0125 247.193645 \r\nL 388.0125 0 \r\nL 0 0 \r\nz\r\n\" style=\"fill:none;\"/>\r\n  </g>\r\n  <g id=\"axes_1\">\r\n   <g id=\"patch_2\">\r\n    <path d=\"M 46.0125 226.631145 \r\nL 380.8125 226.631145 \r\nL 380.8125 9.191145 \r\nL 46.0125 9.191145 \r\nz\r\n\" style=\"fill:#ffffff;\"/>\r\n   </g>\r\n   <g id=\"patch_3\">\r\n    <path clip-path=\"url(#pb36b0af200)\" d=\"M 62.7525 226.631145 \r\nL 96.2325 226.631145 \r\nL 96.2325 19.545431 \r\nL 62.7525 19.545431 \r\nz\r\n\" style=\"fill:#1f77b4;\"/>\r\n   </g>\r\n   <g id=\"patch_4\">\r\n    <path clip-path=\"url(#pb36b0af200)\" d=\"M 129.7125 226.631145 \r\nL 163.1925 226.631145 \r\nL 163.1925 154.976656 \r\nL 129.7125 154.976656 \r\nz\r\n\" style=\"fill:#1f77b4;\"/>\r\n   </g>\r\n   <g id=\"patch_5\">\r\n    <path clip-path=\"url(#pb36b0af200)\" d=\"M 196.6725 226.631145 \r\nL 230.1525 226.631145 \r\nL 230.1525 209.905295 \r\nL 196.6725 209.905295 \r\nz\r\n\" style=\"fill:#1f77b4;\"/>\r\n   </g>\r\n   <g id=\"patch_6\">\r\n    <path clip-path=\"url(#pb36b0af200)\" d=\"M 263.6325 226.631145 \r\nL 297.1125 226.631145 \r\nL 297.1125 222.519763 \r\nL 263.6325 222.519763 \r\nz\r\n\" style=\"fill:#1f77b4;\"/>\r\n   </g>\r\n   <g id=\"patch_7\">\r\n    <path clip-path=\"url(#pb36b0af200)\" d=\"M 330.5925 226.631145 \r\nL 364.0725 226.631145 \r\nL 364.0725 222.663518 \r\nL 330.5925 222.663518 \r\nz\r\n\" style=\"fill:#1f77b4;\"/>\r\n   </g>\r\n   <g id=\"matplotlib.axis_1\">\r\n    <g id=\"xtick_1\">\r\n     <g id=\"line2d_1\">\r\n      <defs>\r\n       <path d=\"M 0 0 \r\nL 0 3.5 \r\n\" id=\"md27fa84952\" style=\"stroke:#000000;stroke-width:0.8;\"/>\r\n      </defs>\r\n      <g>\r\n       <use style=\"stroke:#000000;stroke-width:0.8;\" x=\"79.4925\" xlink:href=\"#md27fa84952\" y=\"226.631145\"/>\r\n      </g>\r\n     </g>\r\n     <g id=\"text_1\">\r\n      <!-- 5 -->\r\n      <g transform=\"translate(82.251875 239.993645)rotate(-90)scale(0.1 -0.1)\">\r\n       <defs>\r\n        <path d=\"M 691 4666 \r\nL 3169 4666 \r\nL 3169 4134 \r\nL 1269 4134 \r\nL 1269 2991 \r\nQ 1406 3038 1543 3061 \r\nQ 1681 3084 1819 3084 \r\nQ 2600 3084 3056 2656 \r\nQ 3513 2228 3513 1497 \r\nQ 3513 744 3044 326 \r\nQ 2575 -91 1722 -91 \r\nQ 1428 -91 1123 -41 \r\nQ 819 9 494 109 \r\nL 494 744 \r\nQ 775 591 1075 516 \r\nQ 1375 441 1709 441 \r\nQ 2250 441 2565 725 \r\nQ 2881 1009 2881 1497 \r\nQ 2881 1984 2565 2268 \r\nQ 2250 2553 1709 2553 \r\nQ 1456 2553 1204 2497 \r\nQ 953 2441 691 2322 \r\nL 691 4666 \r\nz\r\n\" id=\"DejaVuSans-35\" transform=\"scale(0.015625)\"/>\r\n       </defs>\r\n       <use xlink:href=\"#DejaVuSans-35\"/>\r\n      </g>\r\n     </g>\r\n    </g>\r\n    <g id=\"xtick_2\">\r\n     <g id=\"line2d_2\">\r\n      <g>\r\n       <use style=\"stroke:#000000;stroke-width:0.8;\" x=\"146.4525\" xlink:href=\"#md27fa84952\" y=\"226.631145\"/>\r\n      </g>\r\n     </g>\r\n     <g id=\"text_2\">\r\n      <!-- 4 -->\r\n      <g transform=\"translate(149.211875 239.993645)rotate(-90)scale(0.1 -0.1)\">\r\n       <defs>\r\n        <path d=\"M 2419 4116 \r\nL 825 1625 \r\nL 2419 1625 \r\nL 2419 4116 \r\nz\r\nM 2253 4666 \r\nL 3047 4666 \r\nL 3047 1625 \r\nL 3713 1625 \r\nL 3713 1100 \r\nL 3047 1100 \r\nL 3047 0 \r\nL 2419 0 \r\nL 2419 1100 \r\nL 313 1100 \r\nL 313 1709 \r\nL 2253 4666 \r\nz\r\n\" id=\"DejaVuSans-34\" transform=\"scale(0.015625)\"/>\r\n       </defs>\r\n       <use xlink:href=\"#DejaVuSans-34\"/>\r\n      </g>\r\n     </g>\r\n    </g>\r\n    <g id=\"xtick_3\">\r\n     <g id=\"line2d_3\">\r\n      <g>\r\n       <use style=\"stroke:#000000;stroke-width:0.8;\" x=\"213.4125\" xlink:href=\"#md27fa84952\" y=\"226.631145\"/>\r\n      </g>\r\n     </g>\r\n     <g id=\"text_3\">\r\n      <!-- 3 -->\r\n      <g transform=\"translate(216.171875 239.993645)rotate(-90)scale(0.1 -0.1)\">\r\n       <defs>\r\n        <path d=\"M 2597 2516 \r\nQ 3050 2419 3304 2112 \r\nQ 3559 1806 3559 1356 \r\nQ 3559 666 3084 287 \r\nQ 2609 -91 1734 -91 \r\nQ 1441 -91 1130 -33 \r\nQ 819 25 488 141 \r\nL 488 750 \r\nQ 750 597 1062 519 \r\nQ 1375 441 1716 441 \r\nQ 2309 441 2620 675 \r\nQ 2931 909 2931 1356 \r\nQ 2931 1769 2642 2001 \r\nQ 2353 2234 1838 2234 \r\nL 1294 2234 \r\nL 1294 2753 \r\nL 1863 2753 \r\nQ 2328 2753 2575 2939 \r\nQ 2822 3125 2822 3475 \r\nQ 2822 3834 2567 4026 \r\nQ 2313 4219 1838 4219 \r\nQ 1578 4219 1281 4162 \r\nQ 984 4106 628 3988 \r\nL 628 4550 \r\nQ 988 4650 1302 4700 \r\nQ 1616 4750 1894 4750 \r\nQ 2613 4750 3031 4423 \r\nQ 3450 4097 3450 3541 \r\nQ 3450 3153 3228 2886 \r\nQ 3006 2619 2597 2516 \r\nz\r\n\" id=\"DejaVuSans-33\" transform=\"scale(0.015625)\"/>\r\n       </defs>\r\n       <use xlink:href=\"#DejaVuSans-33\"/>\r\n      </g>\r\n     </g>\r\n    </g>\r\n    <g id=\"xtick_4\">\r\n     <g id=\"line2d_4\">\r\n      <g>\r\n       <use style=\"stroke:#000000;stroke-width:0.8;\" x=\"280.3725\" xlink:href=\"#md27fa84952\" y=\"226.631145\"/>\r\n      </g>\r\n     </g>\r\n     <g id=\"text_4\">\r\n      <!-- 2 -->\r\n      <g transform=\"translate(283.131875 239.993645)rotate(-90)scale(0.1 -0.1)\">\r\n       <defs>\r\n        <path d=\"M 1228 531 \r\nL 3431 531 \r\nL 3431 0 \r\nL 469 0 \r\nL 469 531 \r\nQ 828 903 1448 1529 \r\nQ 2069 2156 2228 2338 \r\nQ 2531 2678 2651 2914 \r\nQ 2772 3150 2772 3378 \r\nQ 2772 3750 2511 3984 \r\nQ 2250 4219 1831 4219 \r\nQ 1534 4219 1204 4116 \r\nQ 875 4013 500 3803 \r\nL 500 4441 \r\nQ 881 4594 1212 4672 \r\nQ 1544 4750 1819 4750 \r\nQ 2544 4750 2975 4387 \r\nQ 3406 4025 3406 3419 \r\nQ 3406 3131 3298 2873 \r\nQ 3191 2616 2906 2266 \r\nQ 2828 2175 2409 1742 \r\nQ 1991 1309 1228 531 \r\nz\r\n\" id=\"DejaVuSans-32\" transform=\"scale(0.015625)\"/>\r\n       </defs>\r\n       <use xlink:href=\"#DejaVuSans-32\"/>\r\n      </g>\r\n     </g>\r\n    </g>\r\n    <g id=\"xtick_5\">\r\n     <g id=\"line2d_5\">\r\n      <g>\r\n       <use style=\"stroke:#000000;stroke-width:0.8;\" x=\"347.3325\" xlink:href=\"#md27fa84952\" y=\"226.631145\"/>\r\n      </g>\r\n     </g>\r\n     <g id=\"text_5\">\r\n      <!-- 1 -->\r\n      <g transform=\"translate(350.091875 239.993645)rotate(-90)scale(0.1 -0.1)\">\r\n       <defs>\r\n        <path d=\"M 794 531 \r\nL 1825 531 \r\nL 1825 4091 \r\nL 703 3866 \r\nL 703 4441 \r\nL 1819 4666 \r\nL 2450 4666 \r\nL 2450 531 \r\nL 3481 531 \r\nL 3481 0 \r\nL 794 0 \r\nL 794 531 \r\nz\r\n\" id=\"DejaVuSans-31\" transform=\"scale(0.015625)\"/>\r\n       </defs>\r\n       <use xlink:href=\"#DejaVuSans-31\"/>\r\n      </g>\r\n     </g>\r\n    </g>\r\n   </g>\r\n   <g id=\"matplotlib.axis_2\">\r\n    <g id=\"ytick_1\">\r\n     <g id=\"line2d_6\">\r\n      <defs>\r\n       <path d=\"M 0 0 \r\nL -3.5 0 \r\n\" id=\"mfbc1dceee9\" style=\"stroke:#000000;stroke-width:0.8;\"/>\r\n      </defs>\r\n      <g>\r\n       <use style=\"stroke:#000000;stroke-width:0.8;\" x=\"46.0125\" xlink:href=\"#mfbc1dceee9\" y=\"226.631145\"/>\r\n      </g>\r\n     </g>\r\n     <g id=\"text_6\">\r\n      <!-- 0 -->\r\n      <g transform=\"translate(32.65 230.430364)scale(0.1 -0.1)\">\r\n       <defs>\r\n        <path d=\"M 2034 4250 \r\nQ 1547 4250 1301 3770 \r\nQ 1056 3291 1056 2328 \r\nQ 1056 1369 1301 889 \r\nQ 1547 409 2034 409 \r\nQ 2525 409 2770 889 \r\nQ 3016 1369 3016 2328 \r\nQ 3016 3291 2770 3770 \r\nQ 2525 4250 2034 4250 \r\nz\r\nM 2034 4750 \r\nQ 2819 4750 3233 4129 \r\nQ 3647 3509 3647 2328 \r\nQ 3647 1150 3233 529 \r\nQ 2819 -91 2034 -91 \r\nQ 1250 -91 836 529 \r\nQ 422 1150 422 2328 \r\nQ 422 3509 836 4129 \r\nQ 1250 4750 2034 4750 \r\nz\r\n\" id=\"DejaVuSans-30\" transform=\"scale(0.015625)\"/>\r\n       </defs>\r\n       <use xlink:href=\"#DejaVuSans-30\"/>\r\n      </g>\r\n     </g>\r\n    </g>\r\n    <g id=\"ytick_2\">\r\n     <g id=\"line2d_7\">\r\n      <g>\r\n       <use style=\"stroke:#000000;stroke-width:0.8;\" x=\"46.0125\" xlink:href=\"#mfbc1dceee9\" y=\"190.692491\"/>\r\n      </g>\r\n     </g>\r\n     <g id=\"text_7\">\r\n      <!-- 5000 -->\r\n      <g transform=\"translate(13.5625 194.491709)scale(0.1 -0.1)\">\r\n       <use xlink:href=\"#DejaVuSans-35\"/>\r\n       <use x=\"63.623047\" xlink:href=\"#DejaVuSans-30\"/>\r\n       <use x=\"127.246094\" xlink:href=\"#DejaVuSans-30\"/>\r\n       <use x=\"190.869141\" xlink:href=\"#DejaVuSans-30\"/>\r\n      </g>\r\n     </g>\r\n    </g>\r\n    <g id=\"ytick_3\">\r\n     <g id=\"line2d_8\">\r\n      <g>\r\n       <use style=\"stroke:#000000;stroke-width:0.8;\" x=\"46.0125\" xlink:href=\"#mfbc1dceee9\" y=\"154.753836\"/>\r\n      </g>\r\n     </g>\r\n     <g id=\"text_8\">\r\n      <!-- 10000 -->\r\n      <g transform=\"translate(7.2 158.553055)scale(0.1 -0.1)\">\r\n       <use xlink:href=\"#DejaVuSans-31\"/>\r\n       <use x=\"63.623047\" xlink:href=\"#DejaVuSans-30\"/>\r\n       <use x=\"127.246094\" xlink:href=\"#DejaVuSans-30\"/>\r\n       <use x=\"190.869141\" xlink:href=\"#DejaVuSans-30\"/>\r\n       <use x=\"254.492188\" xlink:href=\"#DejaVuSans-30\"/>\r\n      </g>\r\n     </g>\r\n    </g>\r\n    <g id=\"ytick_4\">\r\n     <g id=\"line2d_9\">\r\n      <g>\r\n       <use style=\"stroke:#000000;stroke-width:0.8;\" x=\"46.0125\" xlink:href=\"#mfbc1dceee9\" y=\"118.815182\"/>\r\n      </g>\r\n     </g>\r\n     <g id=\"text_9\">\r\n      <!-- 15000 -->\r\n      <g transform=\"translate(7.2 122.614401)scale(0.1 -0.1)\">\r\n       <use xlink:href=\"#DejaVuSans-31\"/>\r\n       <use x=\"63.623047\" xlink:href=\"#DejaVuSans-35\"/>\r\n       <use x=\"127.246094\" xlink:href=\"#DejaVuSans-30\"/>\r\n       <use x=\"190.869141\" xlink:href=\"#DejaVuSans-30\"/>\r\n       <use x=\"254.492188\" xlink:href=\"#DejaVuSans-30\"/>\r\n      </g>\r\n     </g>\r\n    </g>\r\n    <g id=\"ytick_5\">\r\n     <g id=\"line2d_10\">\r\n      <g>\r\n       <use style=\"stroke:#000000;stroke-width:0.8;\" x=\"46.0125\" xlink:href=\"#mfbc1dceee9\" y=\"82.876528\"/>\r\n      </g>\r\n     </g>\r\n     <g id=\"text_10\">\r\n      <!-- 20000 -->\r\n      <g transform=\"translate(7.2 86.675746)scale(0.1 -0.1)\">\r\n       <use xlink:href=\"#DejaVuSans-32\"/>\r\n       <use x=\"63.623047\" xlink:href=\"#DejaVuSans-30\"/>\r\n       <use x=\"127.246094\" xlink:href=\"#DejaVuSans-30\"/>\r\n       <use x=\"190.869141\" xlink:href=\"#DejaVuSans-30\"/>\r\n       <use x=\"254.492188\" xlink:href=\"#DejaVuSans-30\"/>\r\n      </g>\r\n     </g>\r\n    </g>\r\n    <g id=\"ytick_6\">\r\n     <g id=\"line2d_11\">\r\n      <g>\r\n       <use style=\"stroke:#000000;stroke-width:0.8;\" x=\"46.0125\" xlink:href=\"#mfbc1dceee9\" y=\"46.937873\"/>\r\n      </g>\r\n     </g>\r\n     <g id=\"text_11\">\r\n      <!-- 25000 -->\r\n      <g transform=\"translate(7.2 50.737092)scale(0.1 -0.1)\">\r\n       <use xlink:href=\"#DejaVuSans-32\"/>\r\n       <use x=\"63.623047\" xlink:href=\"#DejaVuSans-35\"/>\r\n       <use x=\"127.246094\" xlink:href=\"#DejaVuSans-30\"/>\r\n       <use x=\"190.869141\" xlink:href=\"#DejaVuSans-30\"/>\r\n       <use x=\"254.492188\" xlink:href=\"#DejaVuSans-30\"/>\r\n      </g>\r\n     </g>\r\n    </g>\r\n    <g id=\"ytick_7\">\r\n     <g id=\"line2d_12\">\r\n      <g>\r\n       <use style=\"stroke:#000000;stroke-width:0.8;\" x=\"46.0125\" xlink:href=\"#mfbc1dceee9\" y=\"10.999219\"/>\r\n      </g>\r\n     </g>\r\n     <g id=\"text_12\">\r\n      <!-- 30000 -->\r\n      <g transform=\"translate(7.2 14.798437)scale(0.1 -0.1)\">\r\n       <use xlink:href=\"#DejaVuSans-33\"/>\r\n       <use x=\"63.623047\" xlink:href=\"#DejaVuSans-30\"/>\r\n       <use x=\"127.246094\" xlink:href=\"#DejaVuSans-30\"/>\r\n       <use x=\"190.869141\" xlink:href=\"#DejaVuSans-30\"/>\r\n       <use x=\"254.492188\" xlink:href=\"#DejaVuSans-30\"/>\r\n      </g>\r\n     </g>\r\n    </g>\r\n   </g>\r\n   <g id=\"patch_8\">\r\n    <path d=\"M 46.0125 226.631145 \r\nL 46.0125 9.191145 \r\n\" style=\"fill:none;stroke:#000000;stroke-linecap:square;stroke-linejoin:miter;stroke-width:0.8;\"/>\r\n   </g>\r\n   <g id=\"patch_9\">\r\n    <path d=\"M 380.8125 226.631145 \r\nL 380.8125 9.191145 \r\n\" style=\"fill:none;stroke:#000000;stroke-linecap:square;stroke-linejoin:miter;stroke-width:0.8;\"/>\r\n   </g>\r\n   <g id=\"patch_10\">\r\n    <path d=\"M 46.0125 226.631145 \r\nL 380.8125 226.631145 \r\n\" style=\"fill:none;stroke:#000000;stroke-linecap:square;stroke-linejoin:miter;stroke-width:0.8;\"/>\r\n   </g>\r\n   <g id=\"patch_11\">\r\n    <path d=\"M 46.0125 9.191145 \r\nL 380.8125 9.191145 \r\n\" style=\"fill:none;stroke:#000000;stroke-linecap:square;stroke-linejoin:miter;stroke-width:0.8;\"/>\r\n   </g>\r\n  </g>\r\n </g>\r\n <defs>\r\n  <clipPath id=\"pb36b0af200\">\r\n   <rect height=\"217.44\" width=\"334.8\" x=\"46.0125\" y=\"9.191145\"/>\r\n  </clipPath>\r\n </defs>\r\n</svg>\r\n",
      "image/png": "[encoded data removed]"
     },
     "metadata": {
      "needs_background": "light"
     }
    }
   ],
   "source": [
    "#繪製出圖形 得知 正平和負評資料量差距過多 不過因為資料量足夠 所以採用下取樣\n",
    "df['評分'].value_counts().plot.bar()"
   ]
  },
  {
   "cell_type": "code",
   "execution_count": 6,
   "metadata": {},
   "outputs": [],
   "source": [
    "#目前只分成正向和負向評論 因此決定 4,5星為正評=1  1,2,3星的為負評=0\n",
    "def pos_neg_split(df):\n",
    "    df[\"正負評\"] = df[\"評分\"].apply(lambda x: 1 if x>3 else 0)"
   ]
  },
  {
   "cell_type": "code",
   "execution_count": 7,
   "metadata": {},
   "outputs": [],
   "source": [
    "#將正負評加入DataFram\n",
    "pos_neg_split(df)"
   ]
  },
  {
   "cell_type": "code",
   "execution_count": 8,
   "metadata": {},
   "outputs": [
    {
     "output_type": "execute_result",
     "data": {
      "text/plain": [
       "                                                   飯店  評分  \\\n",
       "0                           喜瑞飯店 (中山區) Ambience Hotel   5   \n",
       "1                           喜瑞飯店 (中山區) Ambience Hotel   5   \n",
       "2                           喜瑞飯店 (中山區) Ambience Hotel   5   \n",
       "3                           喜瑞飯店 (中山區) Ambience Hotel   5   \n",
       "4                           喜瑞飯店 (中山區) Ambience Hotel   5   \n",
       "...                                               ...  ..   \n",
       "42226                    我小時候 (安平) Wikid Design Hotel   5   \n",
       "42227  新大南科大飯店 (新市) Sendale Tainan Science Park Hotel   2   \n",
       "42228  新大南科大飯店 (新市) Sendale Tainan Science Park Hotel   1   \n",
       "42229  新大南科大飯店 (新市) Sendale Tainan Science Park Hotel   3   \n",
       "42230  新大南科大飯店 (新市) Sendale Tainan Science Park Hotel   3   \n",
       "\n",
       "                                                      評論  正負評  \n",
       "0      親切熱心耐心的服務，很棒，房間很乾淨，周邊購物方便，加上有洗衣間很方便，彷彿到了去日本度假的...    1  \n",
       "1      <<優質的飯店>>  親切貼心、乾淨整潔、 交通方便、早餐美味、 採光明亮、我給十分。  因...    1  \n",
       "2      環境乾淨整潔，客房不大但是感覺明亮寬敞。 謝謝櫃檯Mei跟Winni的小卡片，以及Cate跟...    1  \n",
       "3      櫃檯服務人員親切又用心，Winni.LIn櫃檯人員很棒👍👍,住宿整體感覺很棒 又乾淨 浴室風...    1  \n",
       "4      非常謝謝整間飯店給予的生日驚喜，尤其是可愛的櫃檯小姐、友善的房務阿姨，這真的是史上最棒的生日...    1  \n",
       "...                                                  ...  ...  \n",
       "42226  我在這裏住了兩個晚上是在七月。 這是一個甜b&b位於安平。 大約從臺南火車站10分鐘車程。 ...    1  \n",
       "42227  晚上七點回到飯店,就可以聽到隔壁房間電視的聲音,仔細聽還可以分辨出是在看哪一台,然後最誇張的...    0  \n",
       "42228  這是一次令人不滿意的住宿體驗，甚至於讓我感到憤怒；我曾經在全世界數十個國家旅行，包含一些經濟...    0  \n",
       "42229  櫃檯人員服務親切，離夜市很近，早餐美味可口，若在台南市區找不到飯店的，可以考慮選擇入住，令人...    0  \n",
       "42230  飯店大廳算氣派，房間還算乾淨，不過早餐就有很大進步空間，白粥，吐司是基本款，可是可以配的菜色...    0  \n",
       "\n",
       "[42231 rows x 4 columns]"
      ],
      "text/html": "<div>\n<style scoped>\n    .dataframe tbody tr th:only-of-type {\n        vertical-align: middle;\n    }\n\n    .dataframe tbody tr th {\n        vertical-align: top;\n    }\n\n    .dataframe thead th {\n        text-align: right;\n    }\n</style>\n<table border=\"1\" class=\"dataframe\">\n  <thead>\n    <tr style=\"text-align: right;\">\n      <th></th>\n      <th>飯店</th>\n      <th>評分</th>\n      <th>評論</th>\n      <th>正負評</th>\n    </tr>\n  </thead>\n  <tbody>\n    <tr>\n      <th>0</th>\n      <td>喜瑞飯店 (中山區) Ambience Hotel</td>\n      <td>5</td>\n      <td>親切熱心耐心的服務，很棒，房間很乾淨，周邊購物方便，加上有洗衣間很方便，彷彿到了去日本度假的...</td>\n      <td>1</td>\n    </tr>\n    <tr>\n      <th>1</th>\n      <td>喜瑞飯店 (中山區) Ambience Hotel</td>\n      <td>5</td>\n      <td>&lt;&lt;優質的飯店&gt;&gt;  親切貼心、乾淨整潔、 交通方便、早餐美味、 採光明亮、我給十分。  因...</td>\n      <td>1</td>\n    </tr>\n    <tr>\n      <th>2</th>\n      <td>喜瑞飯店 (中山區) Ambience Hotel</td>\n      <td>5</td>\n      <td>環境乾淨整潔，客房不大但是感覺明亮寬敞。 謝謝櫃檯Mei跟Winni的小卡片，以及Cate跟...</td>\n      <td>1</td>\n    </tr>\n    <tr>\n      <th>3</th>\n      <td>喜瑞飯店 (中山區) Ambience Hotel</td>\n      <td>5</td>\n      <td>櫃檯服務人員親切又用心，Winni.LIn櫃檯人員很棒👍👍,住宿整體感覺很棒 又乾淨 浴室風...</td>\n      <td>1</td>\n    </tr>\n    <tr>\n      <th>4</th>\n      <td>喜瑞飯店 (中山區) Ambience Hotel</td>\n      <td>5</td>\n      <td>非常謝謝整間飯店給予的生日驚喜，尤其是可愛的櫃檯小姐、友善的房務阿姨，這真的是史上最棒的生日...</td>\n      <td>1</td>\n    </tr>\n    <tr>\n      <th>...</th>\n      <td>...</td>\n      <td>...</td>\n      <td>...</td>\n      <td>...</td>\n    </tr>\n    <tr>\n      <th>42226</th>\n      <td>我小時候 (安平) Wikid Design Hotel</td>\n      <td>5</td>\n      <td>我在這裏住了兩個晚上是在七月。 這是一個甜b&amp;b位於安平。 大約從臺南火車站10分鐘車程。 ...</td>\n      <td>1</td>\n    </tr>\n    <tr>\n      <th>42227</th>\n      <td>新大南科大飯店 (新市) Sendale Tainan Science Park Hotel</td>\n      <td>2</td>\n      <td>晚上七點回到飯店,就可以聽到隔壁房間電視的聲音,仔細聽還可以分辨出是在看哪一台,然後最誇張的...</td>\n      <td>0</td>\n    </tr>\n    <tr>\n      <th>42228</th>\n      <td>新大南科大飯店 (新市) Sendale Tainan Science Park Hotel</td>\n      <td>1</td>\n      <td>這是一次令人不滿意的住宿體驗，甚至於讓我感到憤怒；我曾經在全世界數十個國家旅行，包含一些經濟...</td>\n      <td>0</td>\n    </tr>\n    <tr>\n      <th>42229</th>\n      <td>新大南科大飯店 (新市) Sendale Tainan Science Park Hotel</td>\n      <td>3</td>\n      <td>櫃檯人員服務親切，離夜市很近，早餐美味可口，若在台南市區找不到飯店的，可以考慮選擇入住，令人...</td>\n      <td>0</td>\n    </tr>\n    <tr>\n      <th>42230</th>\n      <td>新大南科大飯店 (新市) Sendale Tainan Science Park Hotel</td>\n      <td>3</td>\n      <td>飯店大廳算氣派，房間還算乾淨，不過早餐就有很大進步空間，白粥，吐司是基本款，可是可以配的菜色...</td>\n      <td>0</td>\n    </tr>\n  </tbody>\n</table>\n<p>42231 rows × 4 columns</p>\n</div>"
     },
     "metadata": {},
     "execution_count": 8
    }
   ],
   "source": [
    "df"
   ]
  },
  {
   "cell_type": "code",
   "execution_count": 9,
   "metadata": {},
   "outputs": [],
   "source": [
    "#下採樣\n",
    "def lower_sample_data(df):\n",
    "    \n",
    "    #正評=1 負評=0 將他們的資料區分開來 (正評數量較多、負評數量較少)\n",
    "    pos = df[df['正負評'] == 1]  #找出所有正評\n",
    "    neg = df[df['正負評'] == 0]  #找出所有負評\n",
    "    \n",
    "    # 取出和負評數量相同的正評 並隨機抽取第幾筆正評\n",
    "    #random.randint 範圍是 pos的長度 , 取出根負評一樣多的數量\n",
    "    #index = np.random.randint(len(pos), size=1 * (len(df) - len(pos)))\n",
    "    #不重複採樣  \n",
    "    index = np.random.choice(len(pos), size=1 * (len(df) - len(pos)))  \n",
    "\n",
    "    lower_sample_pos = pos.iloc[list(index)]  # 將隨機生成的index 在正評裡面取出(下採樣) \n",
    "    \n",
    "    return lower_sample_pos, neg #將正評和負評回傳"
   ]
  },
  {
   "cell_type": "code",
   "execution_count": 10,
   "metadata": {},
   "outputs": [
    {
     "output_type": "execute_result",
     "data": {
      "text/plain": [
       "                                                      飯店  評分  \\\n",
       "19613  新驛旅店 - 台中車站店 (東區) CityInn Hotel Plus - Taichun...   5   \n",
       "26195        長榮桂冠酒店 (西屯) Evergreen Laurel Hotel Taichung   4   \n",
       "25209  新驛旅店 - 台中車站店 (東區) CityInn Hotel Plus - Taichun...   4   \n",
       "31140   Mini Hotels(逢甲館) (西屯) Mini Hotels Fengjia Branch   5   \n",
       "13031        丹迪旅店 - 天母店 (士林) Dandy Hotel - Tianmu Branch   5   \n",
       "...                                                  ...  ..   \n",
       "42173                              晨曦山莊 (左鎮) Chen Xi B&B   1   \n",
       "42227     新大南科大飯店 (新市) Sendale Tainan Science Park Hotel   2   \n",
       "42228     新大南科大飯店 (新市) Sendale Tainan Science Park Hotel   1   \n",
       "42229     新大南科大飯店 (新市) Sendale Tainan Science Park Hotel   3   \n",
       "42230     新大南科大飯店 (新市) Sendale Tainan Science Park Hotel   3   \n",
       "\n",
       "                                                      評論  正負評  \n",
       "19613  感恩選了這旅館，職員有禮，交通方便，早餐選擇雖不多卻款式美味，新鮮，用心製作。房間設計有創意...    1  \n",
       "26195  這是台中地區一家很好的商務酒店。各方面水準高。乾淨寬敞的房間，有一張好的床。餐館也很好。友好...    1  \n",
       "25209  雖然房間有點小,牀很舒服而且洗手間很乾淨。 它很安靜雖然離火車站很近。 有免費洗衣免費洗衣粉...    1  \n",
       "31140  乾淨清潔，工業風的設計 小孩子可以盡情的遊戲跟照相 早餐有中、西式可以挑選 門口還有仿古式抽...    1  \n",
       "13031  我希望每家酒店都是這樣就好了！ 束河的牀是我睡過的最舒適的。 早餐也很美味。 那裏有很多的商...    1  \n",
       "...                                                  ...  ...  \n",
       "42173  CP值極低～ 很會利用照片吸睛～ 覺得被坑$狠大～ Google 有時候也會失準～ 早餐爛～...    0  \n",
       "42227  晚上七點回到飯店,就可以聽到隔壁房間電視的聲音,仔細聽還可以分辨出是在看哪一台,然後最誇張的...    0  \n",
       "42228  這是一次令人不滿意的住宿體驗，甚至於讓我感到憤怒；我曾經在全世界數十個國家旅行，包含一些經濟...    0  \n",
       "42229  櫃檯人員服務親切，離夜市很近，早餐美味可口，若在台南市區找不到飯店的，可以考慮選擇入住，令人...    0  \n",
       "42230  飯店大廳算氣派，房間還算乾淨，不過早餐就有很大進步空間，白粥，吐司是基本款，可是可以配的菜色...    0  \n",
       "\n",
       "[6902 rows x 4 columns]"
      ],
      "text/html": "<div>\n<style scoped>\n    .dataframe tbody tr th:only-of-type {\n        vertical-align: middle;\n    }\n\n    .dataframe tbody tr th {\n        vertical-align: top;\n    }\n\n    .dataframe thead th {\n        text-align: right;\n    }\n</style>\n<table border=\"1\" class=\"dataframe\">\n  <thead>\n    <tr style=\"text-align: right;\">\n      <th></th>\n      <th>飯店</th>\n      <th>評分</th>\n      <th>評論</th>\n      <th>正負評</th>\n    </tr>\n  </thead>\n  <tbody>\n    <tr>\n      <th>19613</th>\n      <td>新驛旅店 - 台中車站店 (東區) CityInn Hotel Plus - Taichun...</td>\n      <td>5</td>\n      <td>感恩選了這旅館，職員有禮，交通方便，早餐選擇雖不多卻款式美味，新鮮，用心製作。房間設計有創意...</td>\n      <td>1</td>\n    </tr>\n    <tr>\n      <th>26195</th>\n      <td>長榮桂冠酒店 (西屯) Evergreen Laurel Hotel Taichung</td>\n      <td>4</td>\n      <td>這是台中地區一家很好的商務酒店。各方面水準高。乾淨寬敞的房間，有一張好的床。餐館也很好。友好...</td>\n      <td>1</td>\n    </tr>\n    <tr>\n      <th>25209</th>\n      <td>新驛旅店 - 台中車站店 (東區) CityInn Hotel Plus - Taichun...</td>\n      <td>4</td>\n      <td>雖然房間有點小,牀很舒服而且洗手間很乾淨。 它很安靜雖然離火車站很近。 有免費洗衣免費洗衣粉...</td>\n      <td>1</td>\n    </tr>\n    <tr>\n      <th>31140</th>\n      <td>Mini Hotels(逢甲館) (西屯) Mini Hotels Fengjia Branch</td>\n      <td>5</td>\n      <td>乾淨清潔，工業風的設計 小孩子可以盡情的遊戲跟照相 早餐有中、西式可以挑選 門口還有仿古式抽...</td>\n      <td>1</td>\n    </tr>\n    <tr>\n      <th>13031</th>\n      <td>丹迪旅店 - 天母店 (士林) Dandy Hotel - Tianmu Branch</td>\n      <td>5</td>\n      <td>我希望每家酒店都是這樣就好了！ 束河的牀是我睡過的最舒適的。 早餐也很美味。 那裏有很多的商...</td>\n      <td>1</td>\n    </tr>\n    <tr>\n      <th>...</th>\n      <td>...</td>\n      <td>...</td>\n      <td>...</td>\n      <td>...</td>\n    </tr>\n    <tr>\n      <th>42173</th>\n      <td>晨曦山莊 (左鎮) Chen Xi B&amp;B</td>\n      <td>1</td>\n      <td>CP值極低～ 很會利用照片吸睛～ 覺得被坑$狠大～ Google 有時候也會失準～ 早餐爛～...</td>\n      <td>0</td>\n    </tr>\n    <tr>\n      <th>42227</th>\n      <td>新大南科大飯店 (新市) Sendale Tainan Science Park Hotel</td>\n      <td>2</td>\n      <td>晚上七點回到飯店,就可以聽到隔壁房間電視的聲音,仔細聽還可以分辨出是在看哪一台,然後最誇張的...</td>\n      <td>0</td>\n    </tr>\n    <tr>\n      <th>42228</th>\n      <td>新大南科大飯店 (新市) Sendale Tainan Science Park Hotel</td>\n      <td>1</td>\n      <td>這是一次令人不滿意的住宿體驗，甚至於讓我感到憤怒；我曾經在全世界數十個國家旅行，包含一些經濟...</td>\n      <td>0</td>\n    </tr>\n    <tr>\n      <th>42229</th>\n      <td>新大南科大飯店 (新市) Sendale Tainan Science Park Hotel</td>\n      <td>3</td>\n      <td>櫃檯人員服務親切，離夜市很近，早餐美味可口，若在台南市區找不到飯店的，可以考慮選擇入住，令人...</td>\n      <td>0</td>\n    </tr>\n    <tr>\n      <th>42230</th>\n      <td>新大南科大飯店 (新市) Sendale Tainan Science Park Hotel</td>\n      <td>3</td>\n      <td>飯店大廳算氣派，房間還算乾淨，不過早餐就有很大進步空間，白粥，吐司是基本款，可是可以配的菜色...</td>\n      <td>0</td>\n    </tr>\n  </tbody>\n</table>\n<p>6902 rows × 4 columns</p>\n</div>"
     },
     "metadata": {},
     "execution_count": 10
    }
   ],
   "source": [
    "#得到 正評負評相同數量的dataset\n",
    "pos,neg = lower_sample_data(df)\n",
    "df = pd.concat([pos,neg])\n",
    "df"
   ]
  },
  {
   "cell_type": "code",
   "execution_count": 11,
   "metadata": {},
   "outputs": [
    {
     "output_type": "execute_result",
     "data": {
      "text/plain": [
       "<AxesSubplot:>"
      ]
     },
     "metadata": {},
     "execution_count": 11
    },
    {
     "output_type": "display_data",
     "data": {
      "text/plain": "<Figure size 432x288 with 1 Axes>",
      "image/svg+xml": "<?xml version=\"1.0\" encoding=\"utf-8\" standalone=\"no\"?>\r\n<!DOCTYPE svg PUBLIC \"-//W3C//DTD SVG 1.1//EN\"\r\n  \"http://www.w3.org/Graphics/SVG/1.1/DTD/svg11.dtd\">\r\n<svg height=\"245.2025pt\" version=\"1.1\" viewBox=\"0 0 381.65 245.2025\" width=\"381.65pt\" xmlns=\"http://www.w3.org/2000/svg\" xmlns:xlink=\"http://www.w3.org/1999/xlink\">\r\n <metadata>\r\n  <rdf:RDF xmlns:cc=\"http://creativecommons.org/ns#\" xmlns:dc=\"http://purl.org/dc/elements/1.1/\" xmlns:rdf=\"http://www.w3.org/1999/02/22-rdf-syntax-ns#\">\r\n   <cc:Work>\r\n    <dc:type rdf:resource=\"http://purl.org/dc/dcmitype/StillImage\"/>\r\n    <dc:date>2021-06-25T09:39:28.460586</dc:date>\r\n    <dc:format>image/svg+xml</dc:format>\r\n    <dc:creator>\r\n     <cc:Agent>\r\n      <dc:title>Matplotlib v3.4.0, https://matplotlib.org/</dc:title>\r\n     </cc:Agent>\r\n    </dc:creator>\r\n   </cc:Work>\r\n  </rdf:RDF>\r\n </metadata>\r\n <defs>\r\n  <style type=\"text/css\">*{stroke-linecap:butt;stroke-linejoin:round;}</style>\r\n </defs>\r\n <g id=\"figure_1\">\r\n  <g id=\"patch_1\">\r\n   <path d=\"M -0 245.2025 \r\nL 381.65 245.2025 \r\nL 381.65 0 \r\nL -0 0 \r\nz\r\n\" style=\"fill:none;\"/>\r\n  </g>\r\n  <g id=\"axes_1\">\r\n   <g id=\"patch_2\">\r\n    <path d=\"M 39.65 224.64 \r\nL 374.45 224.64 \r\nL 374.45 7.2 \r\nL 39.65 7.2 \r\nz\r\n\" style=\"fill:#ffffff;\"/>\r\n   </g>\r\n   <g id=\"patch_3\">\r\n    <path clip-path=\"url(#p32b0fb58d2)\" d=\"M 81.5 224.64 \r\nL 165.2 224.64 \r\nL 165.2 17.554286 \r\nL 81.5 17.554286 \r\nz\r\n\" style=\"fill:#1f77b4;\"/>\r\n   </g>\r\n   <g id=\"patch_4\">\r\n    <path clip-path=\"url(#p32b0fb58d2)\" d=\"M 248.9 224.64 \r\nL 332.6 224.64 \r\nL 332.6 17.554286 \r\nL 248.9 17.554286 \r\nz\r\n\" style=\"fill:#1f77b4;\"/>\r\n   </g>\r\n   <g id=\"matplotlib.axis_1\">\r\n    <g id=\"xtick_1\">\r\n     <g id=\"line2d_1\">\r\n      <defs>\r\n       <path d=\"M 0 0 \r\nL 0 3.5 \r\n\" id=\"m5c4c726a62\" style=\"stroke:#000000;stroke-width:0.8;\"/>\r\n      </defs>\r\n      <g>\r\n       <use style=\"stroke:#000000;stroke-width:0.8;\" x=\"123.35\" xlink:href=\"#m5c4c726a62\" y=\"224.64\"/>\r\n      </g>\r\n     </g>\r\n     <g id=\"text_1\">\r\n      <!-- 0 -->\r\n      <g transform=\"translate(126.109375 238.0025)rotate(-90)scale(0.1 -0.1)\">\r\n       <defs>\r\n        <path d=\"M 2034 4250 \r\nQ 1547 4250 1301 3770 \r\nQ 1056 3291 1056 2328 \r\nQ 1056 1369 1301 889 \r\nQ 1547 409 2034 409 \r\nQ 2525 409 2770 889 \r\nQ 3016 1369 3016 2328 \r\nQ 3016 3291 2770 3770 \r\nQ 2525 4250 2034 4250 \r\nz\r\nM 2034 4750 \r\nQ 2819 4750 3233 4129 \r\nQ 3647 3509 3647 2328 \r\nQ 3647 1150 3233 529 \r\nQ 2819 -91 2034 -91 \r\nQ 1250 -91 836 529 \r\nQ 422 1150 422 2328 \r\nQ 422 3509 836 4129 \r\nQ 1250 4750 2034 4750 \r\nz\r\n\" id=\"DejaVuSans-30\" transform=\"scale(0.015625)\"/>\r\n       </defs>\r\n       <use xlink:href=\"#DejaVuSans-30\"/>\r\n      </g>\r\n     </g>\r\n    </g>\r\n    <g id=\"xtick_2\">\r\n     <g id=\"line2d_2\">\r\n      <g>\r\n       <use style=\"stroke:#000000;stroke-width:0.8;\" x=\"290.75\" xlink:href=\"#m5c4c726a62\" y=\"224.64\"/>\r\n      </g>\r\n     </g>\r\n     <g id=\"text_2\">\r\n      <!-- 1 -->\r\n      <g transform=\"translate(293.509375 238.0025)rotate(-90)scale(0.1 -0.1)\">\r\n       <defs>\r\n        <path d=\"M 794 531 \r\nL 1825 531 \r\nL 1825 4091 \r\nL 703 3866 \r\nL 703 4441 \r\nL 1819 4666 \r\nL 2450 4666 \r\nL 2450 531 \r\nL 3481 531 \r\nL 3481 0 \r\nL 794 0 \r\nL 794 531 \r\nz\r\n\" id=\"DejaVuSans-31\" transform=\"scale(0.015625)\"/>\r\n       </defs>\r\n       <use xlink:href=\"#DejaVuSans-31\"/>\r\n      </g>\r\n     </g>\r\n    </g>\r\n   </g>\r\n   <g id=\"matplotlib.axis_2\">\r\n    <g id=\"ytick_1\">\r\n     <g id=\"line2d_3\">\r\n      <defs>\r\n       <path d=\"M 0 0 \r\nL -3.5 0 \r\n\" id=\"mf7628b21bc\" style=\"stroke:#000000;stroke-width:0.8;\"/>\r\n      </defs>\r\n      <g>\r\n       <use style=\"stroke:#000000;stroke-width:0.8;\" x=\"39.65\" xlink:href=\"#mf7628b21bc\" y=\"224.64\"/>\r\n      </g>\r\n     </g>\r\n     <g id=\"text_3\">\r\n      <!-- 0 -->\r\n      <g transform=\"translate(26.2875 228.439219)scale(0.1 -0.1)\">\r\n       <use xlink:href=\"#DejaVuSans-30\"/>\r\n      </g>\r\n     </g>\r\n    </g>\r\n    <g id=\"ytick_2\">\r\n     <g id=\"line2d_4\">\r\n      <g>\r\n       <use style=\"stroke:#000000;stroke-width:0.8;\" x=\"39.65\" xlink:href=\"#mf7628b21bc\" y=\"194.636274\"/>\r\n      </g>\r\n     </g>\r\n     <g id=\"text_4\">\r\n      <!-- 500 -->\r\n      <g transform=\"translate(13.5625 198.435493)scale(0.1 -0.1)\">\r\n       <defs>\r\n        <path d=\"M 691 4666 \r\nL 3169 4666 \r\nL 3169 4134 \r\nL 1269 4134 \r\nL 1269 2991 \r\nQ 1406 3038 1543 3061 \r\nQ 1681 3084 1819 3084 \r\nQ 2600 3084 3056 2656 \r\nQ 3513 2228 3513 1497 \r\nQ 3513 744 3044 326 \r\nQ 2575 -91 1722 -91 \r\nQ 1428 -91 1123 -41 \r\nQ 819 9 494 109 \r\nL 494 744 \r\nQ 775 591 1075 516 \r\nQ 1375 441 1709 441 \r\nQ 2250 441 2565 725 \r\nQ 2881 1009 2881 1497 \r\nQ 2881 1984 2565 2268 \r\nQ 2250 2553 1709 2553 \r\nQ 1456 2553 1204 2497 \r\nQ 953 2441 691 2322 \r\nL 691 4666 \r\nz\r\n\" id=\"DejaVuSans-35\" transform=\"scale(0.015625)\"/>\r\n       </defs>\r\n       <use xlink:href=\"#DejaVuSans-35\"/>\r\n       <use x=\"63.623047\" xlink:href=\"#DejaVuSans-30\"/>\r\n       <use x=\"127.246094\" xlink:href=\"#DejaVuSans-30\"/>\r\n      </g>\r\n     </g>\r\n    </g>\r\n    <g id=\"ytick_3\">\r\n     <g id=\"line2d_5\">\r\n      <g>\r\n       <use style=\"stroke:#000000;stroke-width:0.8;\" x=\"39.65\" xlink:href=\"#mf7628b21bc\" y=\"164.632549\"/>\r\n      </g>\r\n     </g>\r\n     <g id=\"text_5\">\r\n      <!-- 1000 -->\r\n      <g transform=\"translate(7.2 168.431767)scale(0.1 -0.1)\">\r\n       <use xlink:href=\"#DejaVuSans-31\"/>\r\n       <use x=\"63.623047\" xlink:href=\"#DejaVuSans-30\"/>\r\n       <use x=\"127.246094\" xlink:href=\"#DejaVuSans-30\"/>\r\n       <use x=\"190.869141\" xlink:href=\"#DejaVuSans-30\"/>\r\n      </g>\r\n     </g>\r\n    </g>\r\n    <g id=\"ytick_4\">\r\n     <g id=\"line2d_6\">\r\n      <g>\r\n       <use style=\"stroke:#000000;stroke-width:0.8;\" x=\"39.65\" xlink:href=\"#mf7628b21bc\" y=\"134.628823\"/>\r\n      </g>\r\n     </g>\r\n     <g id=\"text_6\">\r\n      <!-- 1500 -->\r\n      <g transform=\"translate(7.2 138.428042)scale(0.1 -0.1)\">\r\n       <use xlink:href=\"#DejaVuSans-31\"/>\r\n       <use x=\"63.623047\" xlink:href=\"#DejaVuSans-35\"/>\r\n       <use x=\"127.246094\" xlink:href=\"#DejaVuSans-30\"/>\r\n       <use x=\"190.869141\" xlink:href=\"#DejaVuSans-30\"/>\r\n      </g>\r\n     </g>\r\n    </g>\r\n    <g id=\"ytick_5\">\r\n     <g id=\"line2d_7\">\r\n      <g>\r\n       <use style=\"stroke:#000000;stroke-width:0.8;\" x=\"39.65\" xlink:href=\"#mf7628b21bc\" y=\"104.625097\"/>\r\n      </g>\r\n     </g>\r\n     <g id=\"text_7\">\r\n      <!-- 2000 -->\r\n      <g transform=\"translate(7.2 108.424316)scale(0.1 -0.1)\">\r\n       <defs>\r\n        <path d=\"M 1228 531 \r\nL 3431 531 \r\nL 3431 0 \r\nL 469 0 \r\nL 469 531 \r\nQ 828 903 1448 1529 \r\nQ 2069 2156 2228 2338 \r\nQ 2531 2678 2651 2914 \r\nQ 2772 3150 2772 3378 \r\nQ 2772 3750 2511 3984 \r\nQ 2250 4219 1831 4219 \r\nQ 1534 4219 1204 4116 \r\nQ 875 4013 500 3803 \r\nL 500 4441 \r\nQ 881 4594 1212 4672 \r\nQ 1544 4750 1819 4750 \r\nQ 2544 4750 2975 4387 \r\nQ 3406 4025 3406 3419 \r\nQ 3406 3131 3298 2873 \r\nQ 3191 2616 2906 2266 \r\nQ 2828 2175 2409 1742 \r\nQ 1991 1309 1228 531 \r\nz\r\n\" id=\"DejaVuSans-32\" transform=\"scale(0.015625)\"/>\r\n       </defs>\r\n       <use xlink:href=\"#DejaVuSans-32\"/>\r\n       <use x=\"63.623047\" xlink:href=\"#DejaVuSans-30\"/>\r\n       <use x=\"127.246094\" xlink:href=\"#DejaVuSans-30\"/>\r\n       <use x=\"190.869141\" xlink:href=\"#DejaVuSans-30\"/>\r\n      </g>\r\n     </g>\r\n    </g>\r\n    <g id=\"ytick_6\">\r\n     <g id=\"line2d_8\">\r\n      <g>\r\n       <use style=\"stroke:#000000;stroke-width:0.8;\" x=\"39.65\" xlink:href=\"#mf7628b21bc\" y=\"74.621372\"/>\r\n      </g>\r\n     </g>\r\n     <g id=\"text_8\">\r\n      <!-- 2500 -->\r\n      <g transform=\"translate(7.2 78.420591)scale(0.1 -0.1)\">\r\n       <use xlink:href=\"#DejaVuSans-32\"/>\r\n       <use x=\"63.623047\" xlink:href=\"#DejaVuSans-35\"/>\r\n       <use x=\"127.246094\" xlink:href=\"#DejaVuSans-30\"/>\r\n       <use x=\"190.869141\" xlink:href=\"#DejaVuSans-30\"/>\r\n      </g>\r\n     </g>\r\n    </g>\r\n    <g id=\"ytick_7\">\r\n     <g id=\"line2d_9\">\r\n      <g>\r\n       <use style=\"stroke:#000000;stroke-width:0.8;\" x=\"39.65\" xlink:href=\"#mf7628b21bc\" y=\"44.617646\"/>\r\n      </g>\r\n     </g>\r\n     <g id=\"text_9\">\r\n      <!-- 3000 -->\r\n      <g transform=\"translate(7.2 48.416865)scale(0.1 -0.1)\">\r\n       <defs>\r\n        <path d=\"M 2597 2516 \r\nQ 3050 2419 3304 2112 \r\nQ 3559 1806 3559 1356 \r\nQ 3559 666 3084 287 \r\nQ 2609 -91 1734 -91 \r\nQ 1441 -91 1130 -33 \r\nQ 819 25 488 141 \r\nL 488 750 \r\nQ 750 597 1062 519 \r\nQ 1375 441 1716 441 \r\nQ 2309 441 2620 675 \r\nQ 2931 909 2931 1356 \r\nQ 2931 1769 2642 2001 \r\nQ 2353 2234 1838 2234 \r\nL 1294 2234 \r\nL 1294 2753 \r\nL 1863 2753 \r\nQ 2328 2753 2575 2939 \r\nQ 2822 3125 2822 3475 \r\nQ 2822 3834 2567 4026 \r\nQ 2313 4219 1838 4219 \r\nQ 1578 4219 1281 4162 \r\nQ 984 4106 628 3988 \r\nL 628 4550 \r\nQ 988 4650 1302 4700 \r\nQ 1616 4750 1894 4750 \r\nQ 2613 4750 3031 4423 \r\nQ 3450 4097 3450 3541 \r\nQ 3450 3153 3228 2886 \r\nQ 3006 2619 2597 2516 \r\nz\r\n\" id=\"DejaVuSans-33\" transform=\"scale(0.015625)\"/>\r\n       </defs>\r\n       <use xlink:href=\"#DejaVuSans-33\"/>\r\n       <use x=\"63.623047\" xlink:href=\"#DejaVuSans-30\"/>\r\n       <use x=\"127.246094\" xlink:href=\"#DejaVuSans-30\"/>\r\n       <use x=\"190.869141\" xlink:href=\"#DejaVuSans-30\"/>\r\n      </g>\r\n     </g>\r\n    </g>\r\n    <g id=\"ytick_8\">\r\n     <g id=\"line2d_10\">\r\n      <g>\r\n       <use style=\"stroke:#000000;stroke-width:0.8;\" x=\"39.65\" xlink:href=\"#mf7628b21bc\" y=\"14.613921\"/>\r\n      </g>\r\n     </g>\r\n     <g id=\"text_10\">\r\n      <!-- 3500 -->\r\n      <g transform=\"translate(7.2 18.413139)scale(0.1 -0.1)\">\r\n       <use xlink:href=\"#DejaVuSans-33\"/>\r\n       <use x=\"63.623047\" xlink:href=\"#DejaVuSans-35\"/>\r\n       <use x=\"127.246094\" xlink:href=\"#DejaVuSans-30\"/>\r\n       <use x=\"190.869141\" xlink:href=\"#DejaVuSans-30\"/>\r\n      </g>\r\n     </g>\r\n    </g>\r\n   </g>\r\n   <g id=\"patch_5\">\r\n    <path d=\"M 39.65 224.64 \r\nL 39.65 7.2 \r\n\" style=\"fill:none;stroke:#000000;stroke-linecap:square;stroke-linejoin:miter;stroke-width:0.8;\"/>\r\n   </g>\r\n   <g id=\"patch_6\">\r\n    <path d=\"M 374.45 224.64 \r\nL 374.45 7.2 \r\n\" style=\"fill:none;stroke:#000000;stroke-linecap:square;stroke-linejoin:miter;stroke-width:0.8;\"/>\r\n   </g>\r\n   <g id=\"patch_7\">\r\n    <path d=\"M 39.65 224.64 \r\nL 374.45 224.64 \r\n\" style=\"fill:none;stroke:#000000;stroke-linecap:square;stroke-linejoin:miter;stroke-width:0.8;\"/>\r\n   </g>\r\n   <g id=\"patch_8\">\r\n    <path d=\"M 39.65 7.2 \r\nL 374.45 7.2 \r\n\" style=\"fill:none;stroke:#000000;stroke-linecap:square;stroke-linejoin:miter;stroke-width:0.8;\"/>\r\n   </g>\r\n  </g>\r\n </g>\r\n <defs>\r\n  <clipPath id=\"p32b0fb58d2\">\r\n   <rect height=\"217.44\" width=\"334.8\" x=\"39.65\" y=\"7.2\"/>\r\n  </clipPath>\r\n </defs>\r\n</svg>\r\n",
      "image/png": "[encoded data removed]"
     },
     "metadata": {
      "needs_background": "light"
     }
    }
   ],
   "source": [
    "df['正負評'].value_counts().plot.bar()"
   ]
  },
  {
   "cell_type": "code",
   "execution_count": 12,
   "metadata": {},
   "outputs": [],
   "source": [
    "#去除停用字 jieba無法直接載入停用字字典去做去除 因此要另外寫函式\n",
    "#這裡是給文字雲使用\n",
    "def remove_stop_words(seg_list):\n",
    "  \n",
    "    with open('stopword.txt','r',encoding=\"utf-8-sig\") as f:\n",
    "        stop_words = f.readlines()\n",
    "        stop_words = [stop_word.rstrip() for stop_word in stop_words]\n",
    "        \n",
    "    new_list=\"\"\n",
    "    stop_words.append(\"飯店\")\n",
    "    stop_words.append(\"酒店\")\n",
    "    stop_words.append(\"房間\")\n",
    "    stop_words.append(\"服務\")\n",
    "    stop_words.append(\"員\")\n",
    "\n",
    "    for seg in seg_list:\n",
    "        if seg not in stop_words:\n",
    "            new_list+=seg+\" \"\n",
    "    \n",
    "    return new_list\n",
    "\n",
    "#斷詞\n",
    "def word_seg(text):\n",
    "    return \" \".join(jieba.cut(text))\n",
    "\n",
    "#斷詞 文字雲\n",
    "def word_seg2(text):\n",
    "    l=[]\n",
    "    for i in jieba.cut(text):\n",
    "        l.append(i)\n",
    "    return l\n"
   ]
  },
  {
   "cell_type": "code",
   "execution_count": 13,
   "metadata": {},
   "outputs": [],
   "source": [
    "#文字雲前處理 去除一些停用字(和太常用到的飯店、酒店、房間、服務、員)\n",
    "#進行斷詞\n",
    "pos_seg=pos[\"評論\"].apply(word_seg2)\n",
    "neg_seg=neg[\"評論\"].apply(word_seg2)\n",
    "\n",
    "#文字雲 需要 字串形式並以空白隔開\n",
    "pp = \"\"\n",
    "nn = \"\"\n",
    "\n",
    "for i in pos_seg:\n",
    "    pp += remove_stop_words(i) +\" \" #去除停用字 並加到整個字串\n",
    "\n",
    "for i in neg_seg:\n",
    "    nn += remove_stop_words(i) +\" \" #去除停用字 並加到整個字串  \n"
   ]
  },
  {
   "cell_type": "code",
   "execution_count": 14,
   "metadata": {},
   "outputs": [
    {
     "output_type": "display_data",
     "data": {
      "text/plain": "<Figure size 432x288 with 1 Axes>",
      "image/svg+xml": "<?xml version=\"1.0\" encoding=\"utf-8\" standalone=\"no\"?>\r\n<!DOCTYPE svg PUBLIC \"-//W3C//DTD SVG 1.1//EN\"\r\n  \"http://www.w3.org/Graphics/SVG/1.1/DTD/svg11.dtd\">\r\n<svg height=\"231.84pt\" version=\"1.1\" viewBox=\"0 0 231.84 231.84\" width=\"231.84pt\" xmlns=\"http://www.w3.org/2000/svg\" xmlns:xlink=\"http://www.w3.org/1999/xlink\">\r\n <metadata>\r\n  <rdf:RDF xmlns:cc=\"http://creativecommons.org/ns#\" xmlns:dc=\"http://purl.org/dc/elements/1.1/\" xmlns:rdf=\"http://www.w3.org/1999/02/22-rdf-syntax-ns#\">\r\n   <cc:Work>\r\n    <dc:type rdf:resource=\"http://purl.org/dc/dcmitype/StillImage\"/>\r\n    <dc:date>2021-06-25T10:17:22.958913</dc:date>\r\n    <dc:format>image/svg+xml</dc:format>\r\n    <dc:creator>\r\n     <cc:Agent>\r\n      <dc:title>Matplotlib v3.4.0, https://matplotlib.org/</dc:title>\r\n     </cc:Agent>\r\n    </dc:creator>\r\n   </cc:Work>\r\n  </rdf:RDF>\r\n </metadata>\r\n <defs>\r\n  <style type=\"text/css\">*{stroke-linecap:butt;stroke-linejoin:round;}</style>\r\n </defs>\r\n <g id=\"figure_1\">\r\n  <g id=\"patch_1\">\r\n   <path d=\"M 0 231.84 \r\nL 231.84 231.84 \r\nL 231.84 0 \r\nL 0 0 \r\nz\r\n\" style=\"fill:none;\"/>\r\n  </g>\r\n  <g id=\"axes_1\">\r\n   <g clip-path=\"url(#p8949ce7b76)\">\r\n    <image height=\"218\" id=\"imagec98538c386\" transform=\"scale(1 -1)translate(0 -218)\" width=\"218\" x=\"7.2\" xlink:href=\"data:image/png;base64,\r\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\" y=\"-6.64\"/>\r\n   </g>\r\n  </g>\r\n </g>\r\n <defs>\r\n  <clipPath id=\"p8949ce7b76\">\r\n   <rect height=\"217.44\" width=\"217.44\" x=\"7.2\" y=\"7.2\"/>\r\n  </clipPath>\r\n </defs>\r\n</svg>\r\n",
      "image/png": "[encoded data removed]"
     },
     "metadata": {
      "needs_background": "light"
     }
    },
    {
     "output_type": "display_data",
     "data": {
      "text/plain": "<Figure size 432x288 with 1 Axes>",
      "image/svg+xml": "<?xml version=\"1.0\" encoding=\"utf-8\" standalone=\"no\"?>\r\n<!DOCTYPE svg PUBLIC \"-//W3C//DTD SVG 1.1//EN\"\r\n  \"http://www.w3.org/Graphics/SVG/1.1/DTD/svg11.dtd\">\r\n<svg height=\"231.84pt\" version=\"1.1\" viewBox=\"0 0 231.84 231.84\" width=\"231.84pt\" xmlns=\"http://www.w3.org/2000/svg\" xmlns:xlink=\"http://www.w3.org/1999/xlink\">\r\n <metadata>\r\n  <rdf:RDF xmlns:cc=\"http://creativecommons.org/ns#\" xmlns:dc=\"http://purl.org/dc/elements/1.1/\" xmlns:rdf=\"http://www.w3.org/1999/02/22-rdf-syntax-ns#\">\r\n   <cc:Work>\r\n    <dc:type rdf:resource=\"http://purl.org/dc/dcmitype/StillImage\"/>\r\n    <dc:date>2021-06-25T10:17:23.838945</dc:date>\r\n    <dc:format>image/svg+xml</dc:format>\r\n    <dc:creator>\r\n     <cc:Agent>\r\n      <dc:title>Matplotlib v3.4.0, https://matplotlib.org/</dc:title>\r\n     </cc:Agent>\r\n    </dc:creator>\r\n   </cc:Work>\r\n  </rdf:RDF>\r\n </metadata>\r\n <defs>\r\n  <style type=\"text/css\">*{stroke-linecap:butt;stroke-linejoin:round;}</style>\r\n </defs>\r\n <g id=\"figure_1\">\r\n  <g id=\"patch_1\">\r\n   <path d=\"M 0 231.84 \r\nL 231.84 231.84 \r\nL 231.84 0 \r\nL 0 0 \r\nz\r\n\" style=\"fill:none;\"/>\r\n  </g>\r\n  <g id=\"axes_1\">\r\n   <g clip-path=\"url(#pf613a55e94)\">\r\n    <image height=\"218\" id=\"imagea2970d3e0b\" transform=\"scale(1 -1)translate(0 -218)\" width=\"218\" x=\"7.2\" xlink:href=\"data:image/png;base64,\r\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\" y=\"-6.64\"/>\r\n   </g>\r\n  </g>\r\n </g>\r\n <defs>\r\n  <clipPath id=\"pf613a55e94\">\r\n   <rect height=\"217.44\" width=\"217.44\" x=\"7.2\" y=\"7.2\"/>\r\n  </clipPath>\r\n </defs>\r\n</svg>\r\n",
      "image/png": "[encoded data removed]"
     },
     "metadata": {
      "needs_background": "light"
     }
    },
    {
     "output_type": "execute_result",
     "data": {
      "text/plain": [
       "<wordcloud.wordcloud.WordCloud at 0x1e42965d400>"
      ]
     },
     "metadata": {},
     "execution_count": 14
    }
   ],
   "source": [
    "#畫文字雲\n",
    "from wordcloud import WordCloud, ImageColorGenerator\n",
    "from PIL import Image\n",
    "font = 'SourceHanSansTW-Regular.otf'\n",
    "mask = np.array(Image.open('mask_alice.png'))\n",
    "wc = WordCloud(background_color='white',mask=mask,font_path=font).generate(pp)\n",
    "\n",
    "wc2 = WordCloud(background_color='white',mask=mask,font_path=font).generate(nn)\n",
    "\n",
    "plt.imshow(wc)\n",
    "plt.axis(\"off\")\n",
    "plt.show()\n",
    "wc.to_file('wc.jpg')\n",
    "\n",
    "plt.imshow(wc2)\n",
    "plt.axis(\"off\")\n",
    "plt.show()\n",
    "wc2.to_file('wc2.jpg')"
   ]
  },
  {
   "source": [
    "#取出其中的評論 和 正負評\n",
    "seg_comment =  df[['評論']]\n",
    "pos_neg = df[\"正負評\"]"
   ],
   "cell_type": "code",
   "metadata": {},
   "execution_count": 15,
   "outputs": []
  },
  {
   "cell_type": "code",
   "execution_count": 16,
   "metadata": {},
   "outputs": [
    {
     "output_type": "stream",
     "name": "stderr",
     "text": [
      "<ipython-input-16-747fb18fb94e>:2: SettingWithCopyWarning: \nA value is trying to be set on a copy of a slice from a DataFrame.\nTry using .loc[row_indexer,col_indexer] = value instead\n\nSee the caveats in the documentation: https://pandas.pydata.org/pandas-docs/stable/user_guide/indexing.html#returning-a-view-versus-a-copy\n  seg_comment['評論斷詞'] = seg_comment['評論'].apply(word_seg)\n"
     ]
    }
   ],
   "source": [
    "#將評論的部分進行斷詞 並存成'評論斷詞'\n",
    "seg_comment['評論斷詞'] = seg_comment['評論'].apply(word_seg)"
   ]
  },
  {
   "cell_type": "code",
   "execution_count": 17,
   "metadata": {},
   "outputs": [
    {
     "output_type": "execute_result",
     "data": {
      "text/plain": [
       "                                                      評論  \\\n",
       "19613  感恩選了這旅館，職員有禮，交通方便，早餐選擇雖不多卻款式美味，新鮮，用心製作。房間設計有創意...   \n",
       "26195  這是台中地區一家很好的商務酒店。各方面水準高。乾淨寬敞的房間，有一張好的床。餐館也很好。友好...   \n",
       "25209  雖然房間有點小,牀很舒服而且洗手間很乾淨。 它很安靜雖然離火車站很近。 有免費洗衣免費洗衣粉...   \n",
       "31140  乾淨清潔，工業風的設計 小孩子可以盡情的遊戲跟照相 早餐有中、西式可以挑選 門口還有仿古式抽...   \n",
       "13031  我希望每家酒店都是這樣就好了！ 束河的牀是我睡過的最舒適的。 早餐也很美味。 那裏有很多的商...   \n",
       "...                                                  ...   \n",
       "42173  CP值極低～ 很會利用照片吸睛～ 覺得被坑$狠大～ Google 有時候也會失準～ 早餐爛～...   \n",
       "42227  晚上七點回到飯店,就可以聽到隔壁房間電視的聲音,仔細聽還可以分辨出是在看哪一台,然後最誇張的...   \n",
       "42228  這是一次令人不滿意的住宿體驗，甚至於讓我感到憤怒；我曾經在全世界數十個國家旅行，包含一些經濟...   \n",
       "42229  櫃檯人員服務親切，離夜市很近，早餐美味可口，若在台南市區找不到飯店的，可以考慮選擇入住，令人...   \n",
       "42230  飯店大廳算氣派，房間還算乾淨，不過早餐就有很大進步空間，白粥，吐司是基本款，可是可以配的菜色...   \n",
       "\n",
       "                                                    評論斷詞  \n",
       "19613  感恩 選 了 這 旅館 ， 職員 有禮 ， 交通 方便 ， 早餐 選擇 雖 不多 卻 款式 ...  \n",
       "26195  這是 台中 地區 一家 很 好 的 商務酒店 。 各 方面 水準 高 。 乾淨 寬敞 的 房...  \n",
       "25209  雖然 房間 有點 小 , 牀 很 舒服 而且 洗手間 很 乾淨 。   它 很 安靜 雖然 ...  \n",
       "31140  乾淨 清潔 ， 工業 風 的 設計   小孩子 可以 盡情 的 遊戲 跟 照相   早餐 有...  \n",
       "13031  我 希望 每家 酒店 都 是 這樣 就 好 了 ！   束河 的 牀 是 我 睡過 的 最 ...  \n",
       "...                                                  ...  \n",
       "42173  CP 值極 低 ～   很會 利用 照片 吸睛 ～   覺得 被 坑 $ 狠大 ～   Go...  \n",
       "42227  晚上 七點 回到 飯店 , 就 可以 聽到 隔壁 房間 電視 的 聲音 , 仔 細聽 還可以...  \n",
       "42228  這是 一次 令人 不 滿意 的 住宿 體驗 ， 甚至 於 讓 我 感到 憤怒 ； 我 曾經 ...  \n",
       "42229  櫃檯 人員 服務 親切 ， 離 夜市 很近 ， 早餐 美味可口 ， 若 在 台南 市區 找 ...  \n",
       "42230  飯店 大廳 算 氣派 ， 房間 還算 乾淨 ， 不過 早餐 就 有 很大 進步 空間 ， 白...  \n",
       "\n",
       "[6902 rows x 2 columns]"
      ],
      "text/html": "<div>\n<style scoped>\n    .dataframe tbody tr th:only-of-type {\n        vertical-align: middle;\n    }\n\n    .dataframe tbody tr th {\n        vertical-align: top;\n    }\n\n    .dataframe thead th {\n        text-align: right;\n    }\n</style>\n<table border=\"1\" class=\"dataframe\">\n  <thead>\n    <tr style=\"text-align: right;\">\n      <th></th>\n      <th>評論</th>\n      <th>評論斷詞</th>\n    </tr>\n  </thead>\n  <tbody>\n    <tr>\n      <th>19613</th>\n      <td>感恩選了這旅館，職員有禮，交通方便，早餐選擇雖不多卻款式美味，新鮮，用心製作。房間設計有創意...</td>\n      <td>感恩 選 了 這 旅館 ， 職員 有禮 ， 交通 方便 ， 早餐 選擇 雖 不多 卻 款式 ...</td>\n    </tr>\n    <tr>\n      <th>26195</th>\n      <td>這是台中地區一家很好的商務酒店。各方面水準高。乾淨寬敞的房間，有一張好的床。餐館也很好。友好...</td>\n      <td>這是 台中 地區 一家 很 好 的 商務酒店 。 各 方面 水準 高 。 乾淨 寬敞 的 房...</td>\n    </tr>\n    <tr>\n      <th>25209</th>\n      <td>雖然房間有點小,牀很舒服而且洗手間很乾淨。 它很安靜雖然離火車站很近。 有免費洗衣免費洗衣粉...</td>\n      <td>雖然 房間 有點 小 , 牀 很 舒服 而且 洗手間 很 乾淨 。   它 很 安靜 雖然 ...</td>\n    </tr>\n    <tr>\n      <th>31140</th>\n      <td>乾淨清潔，工業風的設計 小孩子可以盡情的遊戲跟照相 早餐有中、西式可以挑選 門口還有仿古式抽...</td>\n      <td>乾淨 清潔 ， 工業 風 的 設計   小孩子 可以 盡情 的 遊戲 跟 照相   早餐 有...</td>\n    </tr>\n    <tr>\n      <th>13031</th>\n      <td>我希望每家酒店都是這樣就好了！ 束河的牀是我睡過的最舒適的。 早餐也很美味。 那裏有很多的商...</td>\n      <td>我 希望 每家 酒店 都 是 這樣 就 好 了 ！   束河 的 牀 是 我 睡過 的 最 ...</td>\n    </tr>\n    <tr>\n      <th>...</th>\n      <td>...</td>\n      <td>...</td>\n    </tr>\n    <tr>\n      <th>42173</th>\n      <td>CP值極低～ 很會利用照片吸睛～ 覺得被坑$狠大～ Google 有時候也會失準～ 早餐爛～...</td>\n      <td>CP 值極 低 ～   很會 利用 照片 吸睛 ～   覺得 被 坑 $ 狠大 ～   Go...</td>\n    </tr>\n    <tr>\n      <th>42227</th>\n      <td>晚上七點回到飯店,就可以聽到隔壁房間電視的聲音,仔細聽還可以分辨出是在看哪一台,然後最誇張的...</td>\n      <td>晚上 七點 回到 飯店 , 就 可以 聽到 隔壁 房間 電視 的 聲音 , 仔 細聽 還可以...</td>\n    </tr>\n    <tr>\n      <th>42228</th>\n      <td>這是一次令人不滿意的住宿體驗，甚至於讓我感到憤怒；我曾經在全世界數十個國家旅行，包含一些經濟...</td>\n      <td>這是 一次 令人 不 滿意 的 住宿 體驗 ， 甚至 於 讓 我 感到 憤怒 ； 我 曾經 ...</td>\n    </tr>\n    <tr>\n      <th>42229</th>\n      <td>櫃檯人員服務親切，離夜市很近，早餐美味可口，若在台南市區找不到飯店的，可以考慮選擇入住，令人...</td>\n      <td>櫃檯 人員 服務 親切 ， 離 夜市 很近 ， 早餐 美味可口 ， 若 在 台南 市區 找 ...</td>\n    </tr>\n    <tr>\n      <th>42230</th>\n      <td>飯店大廳算氣派，房間還算乾淨，不過早餐就有很大進步空間，白粥，吐司是基本款，可是可以配的菜色...</td>\n      <td>飯店 大廳 算 氣派 ， 房間 還算 乾淨 ， 不過 早餐 就 有 很大 進步 空間 ， 白...</td>\n    </tr>\n  </tbody>\n</table>\n<p>6902 rows × 2 columns</p>\n</div>"
     },
     "metadata": {},
     "execution_count": 17
    }
   ],
   "source": [
    "seg_comment"
   ]
  },
  {
   "cell_type": "code",
   "execution_count": 18,
   "metadata": {},
   "outputs": [],
   "source": [
    "#開始訓練模型\n",
    "from sklearn.model_selection import train_test_split\n",
    "#加上random_state確保每次程式運行都分割一樣的訓練集和測試集 不然的話在同個模型上，會得到不同的準確率 7成做訓練3成做測試\n",
    "X_train, X_test, y_train, y_test = train_test_split(seg_comment, pos_neg,test_size=0.3, random_state=1)"
   ]
  },
  {
   "cell_type": "code",
   "execution_count": 19,
   "metadata": {},
   "outputs": [
    {
     "output_type": "stream",
     "name": "stdout",
     "text": [
      "X_train: (4831, 2)\nX_test: (2071, 2)\ny_train: (4831,)\ny_test: (2071,)\n"
     ]
    }
   ],
   "source": [
    "#確認分割結果\n",
    "print(\"X_train:\",X_train.shape)\n",
    "print(\"X_test:\",X_test.shape)\n",
    "print(\"y_train:\",y_train.shape)\n",
    "print(\"y_test:\",y_test.shape)"
   ]
  },
  {
   "cell_type": "code",
   "execution_count": 20,
   "metadata": {},
   "outputs": [
    {
     "output_type": "stream",
     "name": "stdout",
     "text": [
      "   00  00am  01  02  03  04  05  06  0645  0667  ...  齊備  齊全  齊整  齐全  齒輪  龍山寺  \\\n0   0     0   0   0   0   0   0   0     0     0  ...   0   0   0   0   0    0   \n1   0     0   0   0   0   0   0   0     0     0  ...   0   0   0   0   0    0   \n2   0     0   0   0   0   0   0   0     0     0  ...   0   0   0   0   0    0   \n3   0     0   0   0   0   0   0   0     0     0  ...   0   0   0   0   0    0   \n4   0     0   0   0   0   0   0   0     0     0  ...   0   0   0   0   0    0   \n\n   龍蝦  龍頭  龜步  龜速  \n0   0   0   0   0  \n1   0   0   0   0  \n2   0   0   0   0  \n3   0   0   0   0  \n4   0   0   0   0  \n\n[5 rows x 21589 columns]\n(4831, 21589)\n"
     ]
    }
   ],
   "source": [
    "#計算分詞後 在正負評中 出現的頻率 CountVectorizer\n",
    "from sklearn.feature_extraction.text import CountVectorizer\n",
    "\n",
    "CV = CountVectorizer()\n",
    "\n",
    "#使用向量化工具轉換已經分詞的訓練集語句，並且用成DataFrame\n",
    "term_matrix = pd.DataFrame(CV.fit_transform(X_train[\"評論斷詞\"]).toarray(), columns=CV.get_feature_names())\n",
    "\n",
    "#可以看出有 轉換後 有21563個特徵\n",
    "print(term_matrix.head())\n",
    "print(term_matrix.shape)"
   ]
  },
  {
   "cell_type": "code",
   "execution_count": 21,
   "metadata": {},
   "outputs": [],
   "source": [
    "#將停用字字典讀近來 存成list 以便之後用函數將評論做停用字去除\n",
    "stopwords=[]\n",
    "with open(stopwords_dic,\"r\",encoding='utf-8-sig') as fp:\n",
    "    per = fp.readlines()\n",
    "    for i in per:\n",
    "        i = i.strip(\"\\n\")\n",
    "        stopwords.append(i)"
   ]
  },
  {
   "cell_type": "code",
   "execution_count": 22,
   "metadata": {},
   "outputs": [],
   "source": [
    "#去除停用字 以及將出現頻率過高的(因為去除停用字去除不完全) 、 出現次數少於3較特殊的 給過濾掉 、 將一些數字和不必要的符號去掉\n",
    "CV2 = CountVectorizer(max_df = 0.8,\n",
    "                       min_df = 3,\n",
    "                       token_pattern=u'(?u)\\\\b[^\\\\d\\\\W]\\\\w+\\\\b',\n",
    "                       stop_words=frozenset(stopwords))"
   ]
  },
  {
   "cell_type": "code",
   "execution_count": 23,
   "metadata": {},
   "outputs": [
    {
     "output_type": "stream",
     "name": "stderr",
     "text": [
      "C:\\Users\\user\\AppData\\Local\\Programs\\Python\\Python38\\lib\\site-packages\\sklearn\\feature_extraction\\text.py:388: UserWarning: Your stop_words may be inconsistent with your preprocessing. Tokenizing the stop words generated tokens ['若果'] not in stop_words.\n  warnings.warn('Your stop_words may be inconsistent with '\n"
     ]
    },
    {
     "output_type": "execute_result",
     "data": {
      "text/plain": [
       "      a4  agoda  amba  and  app  b1  b2  b3  b5  baby  ...  點點  黴味  鼎泰豐  鼓勵  \\\n",
       "0      0      0     0    0    0   0   0   0   0     0  ...   0   0    0   0   \n",
       "1      0      0     0    0    0   0   0   0   0     0  ...   0   0    0   0   \n",
       "2      0      0     0    0    0   0   0   0   0     0  ...   0   0    0   0   \n",
       "3      0      0     0    0    0   0   0   0   0     0  ...   0   0    0   0   \n",
       "4      0      0     0    0    0   0   0   0   0     0  ...   0   0    0   0   \n",
       "...   ..    ...   ...  ...  ...  ..  ..  ..  ..   ...  ...  ..  ..  ...  ..   \n",
       "4826   0      0     0    0    0   0   0   0   0     0  ...   0   0    0   0   \n",
       "4827   0      0     0    0    0   0   0   0   0     0  ...   0   0    0   0   \n",
       "4828   0      0     0    0    0   0   0   0   0     0  ...   0   0    0   0   \n",
       "4829   0      0     0    0    0   0   0   0   0     0  ...   0   0    0   0   \n",
       "4830   0      0     0    0    0   0   0   0   0     0  ...   0   0    0   0   \n",
       "\n",
       "      鼻子  齊備  齊全  龍山寺  龍蝦  龍頭  \n",
       "0      0   0   0    0   0   0  \n",
       "1      0   0   0    0   0   0  \n",
       "2      0   0   0    0   0   0  \n",
       "3      0   0   0    0   0   0  \n",
       "4      0   0   0    0   0   0  \n",
       "...   ..  ..  ..  ...  ..  ..  \n",
       "4826   0   0   0    0   0   0  \n",
       "4827   0   0   0    0   0   0  \n",
       "4828   0   0   0    0   0   0  \n",
       "4829   0   0   0    0   0   0  \n",
       "4830   0   0   0    0   0   0  \n",
       "\n",
       "[4831 rows x 6676 columns]"
      ],
      "text/html": "<div>\n<style scoped>\n    .dataframe tbody tr th:only-of-type {\n        vertical-align: middle;\n    }\n\n    .dataframe tbody tr th {\n        vertical-align: top;\n    }\n\n    .dataframe thead th {\n        text-align: right;\n    }\n</style>\n<table border=\"1\" class=\"dataframe\">\n  <thead>\n    <tr style=\"text-align: right;\">\n      <th></th>\n      <th>a4</th>\n      <th>agoda</th>\n      <th>amba</th>\n      <th>and</th>\n      <th>app</th>\n      <th>b1</th>\n      <th>b2</th>\n      <th>b3</th>\n      <th>b5</th>\n      <th>baby</th>\n      <th>...</th>\n      <th>點點</th>\n      <th>黴味</th>\n      <th>鼎泰豐</th>\n      <th>鼓勵</th>\n      <th>鼻子</th>\n      <th>齊備</th>\n      <th>齊全</th>\n      <th>龍山寺</th>\n      <th>龍蝦</th>\n      <th>龍頭</th>\n    </tr>\n  </thead>\n  <tbody>\n    <tr>\n      <th>0</th>\n      <td>0</td>\n      <td>0</td>\n      <td>0</td>\n      <td>0</td>\n      <td>0</td>\n      <td>0</td>\n      <td>0</td>\n      <td>0</td>\n      <td>0</td>\n      <td>0</td>\n      <td>...</td>\n      <td>0</td>\n      <td>0</td>\n      <td>0</td>\n      <td>0</td>\n      <td>0</td>\n      <td>0</td>\n      <td>0</td>\n      <td>0</td>\n      <td>0</td>\n      <td>0</td>\n    </tr>\n    <tr>\n      <th>1</th>\n      <td>0</td>\n      <td>0</td>\n      <td>0</td>\n      <td>0</td>\n      <td>0</td>\n      <td>0</td>\n      <td>0</td>\n      <td>0</td>\n      <td>0</td>\n      <td>0</td>\n      <td>...</td>\n      <td>0</td>\n      <td>0</td>\n      <td>0</td>\n      <td>0</td>\n      <td>0</td>\n      <td>0</td>\n      <td>0</td>\n      <td>0</td>\n      <td>0</td>\n      <td>0</td>\n    </tr>\n    <tr>\n      <th>2</th>\n      <td>0</td>\n      <td>0</td>\n      <td>0</td>\n      <td>0</td>\n      <td>0</td>\n      <td>0</td>\n      <td>0</td>\n      <td>0</td>\n      <td>0</td>\n      <td>0</td>\n      <td>...</td>\n      <td>0</td>\n      <td>0</td>\n      <td>0</td>\n      <td>0</td>\n      <td>0</td>\n      <td>0</td>\n      <td>0</td>\n      <td>0</td>\n      <td>0</td>\n      <td>0</td>\n    </tr>\n    <tr>\n      <th>3</th>\n      <td>0</td>\n      <td>0</td>\n      <td>0</td>\n      <td>0</td>\n      <td>0</td>\n      <td>0</td>\n      <td>0</td>\n      <td>0</td>\n      <td>0</td>\n      <td>0</td>\n      <td>...</td>\n      <td>0</td>\n      <td>0</td>\n      <td>0</td>\n      <td>0</td>\n      <td>0</td>\n      <td>0</td>\n      <td>0</td>\n      <td>0</td>\n      <td>0</td>\n      <td>0</td>\n    </tr>\n    <tr>\n      <th>4</th>\n      <td>0</td>\n      <td>0</td>\n      <td>0</td>\n      <td>0</td>\n      <td>0</td>\n      <td>0</td>\n      <td>0</td>\n      <td>0</td>\n      <td>0</td>\n      <td>0</td>\n      <td>...</td>\n      <td>0</td>\n      <td>0</td>\n      <td>0</td>\n      <td>0</td>\n      <td>0</td>\n      <td>0</td>\n      <td>0</td>\n      <td>0</td>\n      <td>0</td>\n      <td>0</td>\n    </tr>\n    <tr>\n      <th>...</th>\n      <td>...</td>\n      <td>...</td>\n      <td>...</td>\n      <td>...</td>\n      <td>...</td>\n      <td>...</td>\n      <td>...</td>\n      <td>...</td>\n      <td>...</td>\n      <td>...</td>\n      <td>...</td>\n      <td>...</td>\n      <td>...</td>\n      <td>...</td>\n      <td>...</td>\n      <td>...</td>\n      <td>...</td>\n      <td>...</td>\n      <td>...</td>\n      <td>...</td>\n      <td>...</td>\n    </tr>\n    <tr>\n      <th>4826</th>\n      <td>0</td>\n      <td>0</td>\n      <td>0</td>\n      <td>0</td>\n      <td>0</td>\n      <td>0</td>\n      <td>0</td>\n      <td>0</td>\n      <td>0</td>\n      <td>0</td>\n      <td>...</td>\n      <td>0</td>\n      <td>0</td>\n      <td>0</td>\n      <td>0</td>\n      <td>0</td>\n      <td>0</td>\n      <td>0</td>\n      <td>0</td>\n      <td>0</td>\n      <td>0</td>\n    </tr>\n    <tr>\n      <th>4827</th>\n      <td>0</td>\n      <td>0</td>\n      <td>0</td>\n      <td>0</td>\n      <td>0</td>\n      <td>0</td>\n      <td>0</td>\n      <td>0</td>\n      <td>0</td>\n      <td>0</td>\n      <td>...</td>\n      <td>0</td>\n      <td>0</td>\n      <td>0</td>\n      <td>0</td>\n      <td>0</td>\n      <td>0</td>\n      <td>0</td>\n      <td>0</td>\n      <td>0</td>\n      <td>0</td>\n    </tr>\n    <tr>\n      <th>4828</th>\n      <td>0</td>\n      <td>0</td>\n      <td>0</td>\n      <td>0</td>\n      <td>0</td>\n      <td>0</td>\n      <td>0</td>\n      <td>0</td>\n      <td>0</td>\n      <td>0</td>\n      <td>...</td>\n      <td>0</td>\n      <td>0</td>\n      <td>0</td>\n      <td>0</td>\n      <td>0</td>\n      <td>0</td>\n      <td>0</td>\n      <td>0</td>\n      <td>0</td>\n      <td>0</td>\n    </tr>\n    <tr>\n      <th>4829</th>\n      <td>0</td>\n      <td>0</td>\n      <td>0</td>\n      <td>0</td>\n      <td>0</td>\n      <td>0</td>\n      <td>0</td>\n      <td>0</td>\n      <td>0</td>\n      <td>0</td>\n      <td>...</td>\n      <td>0</td>\n      <td>0</td>\n      <td>0</td>\n      <td>0</td>\n      <td>0</td>\n      <td>0</td>\n      <td>0</td>\n      <td>0</td>\n      <td>0</td>\n      <td>0</td>\n    </tr>\n    <tr>\n      <th>4830</th>\n      <td>0</td>\n      <td>0</td>\n      <td>0</td>\n      <td>0</td>\n      <td>0</td>\n      <td>0</td>\n      <td>0</td>\n      <td>0</td>\n      <td>0</td>\n      <td>0</td>\n      <td>...</td>\n      <td>0</td>\n      <td>0</td>\n      <td>0</td>\n      <td>0</td>\n      <td>0</td>\n      <td>0</td>\n      <td>0</td>\n      <td>0</td>\n      <td>0</td>\n      <td>0</td>\n    </tr>\n  </tbody>\n</table>\n<p>4831 rows × 6676 columns</p>\n</div>"
     },
     "metadata": {},
     "execution_count": 23
    }
   ],
   "source": [
    "#透過上面的條件塞選掉後 發現剩下的特徵剩下6606個\n",
    "term_matrix2 = pd.DataFrame(CV2.fit_transform(X_train[\"評論斷詞\"]).toarray(), columns=CV2.get_feature_names())\n",
    "term_matrix2"
   ]
  },
  {
   "cell_type": "code",
   "execution_count": 24,
   "metadata": {},
   "outputs": [
    {
     "output_type": "execute_result",
     "data": {
      "text/plain": [
       "0.8450024142926122"
      ]
     },
     "metadata": {},
     "execution_count": 24
    }
   ],
   "source": [
    "from sklearn.naive_bayes import MultinomialNB\n",
    "from sklearn.model_selection import cross_val_score\n",
    "from sklearn.metrics import confusion_matrix,classification_report\n",
    "import warnings\n",
    "from sklearn import metrics\n",
    "from sklearn.metrics import precision_score\n",
    "\n",
    "\n",
    "#多項式貝氏分類器 => 適合離散特徵的分類問題 (例如:文本分類中的單詞計數)\n",
    "nb = MultinomialNB()\n",
    "\n",
    "X_train_vec = CV2.fit_transform(X_train[\"評論斷詞\"]).toarray()\n",
    "X_test_vec  = CV2.transform(X_test[\"評論斷詞\"]).toarray()\n",
    "\n",
    "\n",
    "nb.fit(X_train_vec, y_train)\n",
    "nb_predict = nb.predict(X_test_vec)\n",
    "metrics.accuracy_score(y_test, nb_predict)"
   ]
  },
  {
   "cell_type": "code",
   "execution_count": 25,
   "metadata": {},
   "outputs": [
    {
     "output_type": "execute_result",
     "data": {
      "text/plain": [
       "array([[828, 226],\n",
       "       [ 95, 922]], dtype=int64)"
      ]
     },
     "metadata": {},
     "execution_count": 25
    }
   ],
   "source": [
    "metrics.confusion_matrix(y_test, nb_predict)"
   ]
  },
  {
   "cell_type": "code",
   "execution_count": 26,
   "metadata": {},
   "outputs": [
    {
     "output_type": "stream",
     "name": "stdout",
     "text": [
      "              precision    recall  f1-score   support\n\n           0       0.90      0.79      0.84      1054\n           1       0.80      0.91      0.85      1017\n\n    accuracy                           0.85      2071\n   macro avg       0.85      0.85      0.84      2071\nweighted avg       0.85      0.85      0.84      2071\n\n"
     ]
    }
   ],
   "source": [
    "print(classification_report(y_test,nb_predict))"
   ]
  },
  {
   "cell_type": "code",
   "execution_count": 27,
   "metadata": {},
   "outputs": [
    {
     "output_type": "execute_result",
     "data": {
      "text/plain": [
       "SVC(kernel='linear', probability=True)"
      ]
     },
     "metadata": {},
     "execution_count": 27
    }
   ],
   "source": [
    "#第二種 機器學習方法\n",
    "from sklearn.svm import SVC\n",
    "#線性支持向量機 C預設1\n",
    "svc = SVC(kernel = 'linear',probability=True)\n",
    "svc.fit(X_train_vec, y_train)"
   ]
  },
  {
   "cell_type": "code",
   "execution_count": 28,
   "metadata": {},
   "outputs": [],
   "source": [
    "svc_predicted = svc.predict(X_test_vec)"
   ]
  },
  {
   "cell_type": "code",
   "execution_count": 29,
   "metadata": {},
   "outputs": [
    {
     "output_type": "execute_result",
     "data": {
      "text/plain": [
       "0.8242394978271367"
      ]
     },
     "metadata": {},
     "execution_count": 29
    }
   ],
   "source": [
    "metrics.accuracy_score(y_test, svc_predicted)"
   ]
  },
  {
   "cell_type": "code",
   "execution_count": 30,
   "metadata": {},
   "outputs": [
    {
     "output_type": "execute_result",
     "data": {
      "text/plain": [
       "array([[843, 211],\n",
       "       [153, 864]], dtype=int64)"
      ]
     },
     "metadata": {},
     "execution_count": 30
    }
   ],
   "source": [
    "metrics.confusion_matrix(y_test, svc_predicted)"
   ]
  },
  {
   "cell_type": "code",
   "execution_count": 31,
   "metadata": {},
   "outputs": [
    {
     "output_type": "stream",
     "name": "stdout",
     "text": [
      "              precision    recall  f1-score   support\n\n           0       0.85      0.80      0.82      1054\n           1       0.80      0.85      0.83      1017\n\n    accuracy                           0.82      2071\n   macro avg       0.83      0.82      0.82      2071\nweighted avg       0.83      0.82      0.82      2071\n\n"
     ]
    }
   ],
   "source": [
    "print(classification_report(y_test,svc_predicted))"
   ]
  },
  {
   "cell_type": "code",
   "execution_count": 32,
   "metadata": {},
   "outputs": [
    {
     "output_type": "execute_result",
     "data": {
      "text/plain": [
       "SVC(C=0.01, kernel='linear', probability=True)"
      ]
     },
     "metadata": {},
     "execution_count": 32
    }
   ],
   "source": [
    "#線性支持向量機 C越小代表模形容錯率較高  probability是指採用邏輯函數=>Sigmoid Function\n",
    "svc = SVC(kernel = 'linear',probability=True,C=0.01)\n",
    "svc.fit(X_train_vec, y_train)"
   ]
  },
  {
   "cell_type": "code",
   "execution_count": 33,
   "metadata": {},
   "outputs": [
    {
     "output_type": "execute_result",
     "data": {
      "text/plain": [
       "0.8536938676967648"
      ]
     },
     "metadata": {},
     "execution_count": 33
    }
   ],
   "source": [
    "svc_predicted = svc.predict(X_test_vec)\n",
    "metrics.accuracy_score(y_test, svc_predicted)"
   ]
  },
  {
   "cell_type": "code",
   "execution_count": 34,
   "metadata": {},
   "outputs": [
    {
     "output_type": "execute_result",
     "data": {
      "text/plain": [
       "array([[887, 167],\n",
       "       [136, 881]], dtype=int64)"
      ]
     },
     "metadata": {},
     "execution_count": 34
    }
   ],
   "source": [
    "metrics.confusion_matrix(y_test, svc_predicted)"
   ]
  },
  {
   "cell_type": "code",
   "execution_count": 35,
   "metadata": {},
   "outputs": [
    {
     "output_type": "stream",
     "name": "stdout",
     "text": [
      "              precision    recall  f1-score   support\n\n           0       0.87      0.84      0.85      1054\n           1       0.84      0.87      0.85      1017\n\n    accuracy                           0.85      2071\n   macro avg       0.85      0.85      0.85      2071\nweighted avg       0.85      0.85      0.85      2071\n\n"
     ]
    }
   ],
   "source": [
    "print(classification_report(y_test,svc_predicted))"
   ]
  },
  {
   "cell_type": "code",
   "execution_count": 45,
   "metadata": {},
   "outputs": [
    {
     "output_type": "stream",
     "name": "stdout",
     "text": [
      "0.8474167069048769\n[[870 184]\n [132 885]]\n              precision    recall  f1-score   support\n\n           0       0.87      0.83      0.85      1054\n           1       0.83      0.87      0.85      1017\n\n    accuracy                           0.85      2071\n   macro avg       0.85      0.85      0.85      2071\nweighted avg       0.85      0.85      0.85      2071\n\n"
     ]
    }
   ],
   "source": [
    "svc1 = SVC(kernel = 'linear',probability=True,C=0.1)\n",
    "svc1.fit(X_train_vec, y_train)\n",
    "svc1_predicted = svc1.predict(X_test_vec)\n",
    "print(metrics.accuracy_score(y_test, svc1_predicted))\n",
    "print(metrics.confusion_matrix(y_test, svc1_predicted))\n",
    "print(classification_report(y_test,svc1_predicted))"
   ]
  },
  {
   "cell_type": "code",
   "execution_count": 36,
   "metadata": {},
   "outputs": [
    {
     "output_type": "stream",
     "name": "stdout",
     "text": [
      "              precision    recall  f1-score   support\n\n           0       0.87      0.84      0.86      1054\n           1       0.84      0.87      0.86      1017\n\n    accuracy                           0.86      2071\n   macro avg       0.86      0.86      0.86      2071\nweighted avg       0.86      0.86      0.86      2071\n\n"
     ]
    }
   ],
   "source": [
    "#線性支持向量機 C越小代表模形容錯率較高 \n",
    "svc2 = SVC(kernel = 'linear',probability=True,C=0.05)\n",
    "svc2.fit(X_train_vec, y_train)\n",
    "svc2_predicted = svc2.predict(X_test_vec)\n",
    "metrics.accuracy_score(y_test, svc2_predicted)\n",
    "metrics.confusion_matrix(y_test, svc2_predicted)\n",
    "print(classification_report(y_test,svc2_predicted))"
   ]
  },
  {
   "cell_type": "code",
   "execution_count": 43,
   "metadata": {},
   "outputs": [
    {
     "output_type": "stream",
     "name": "stdout",
     "text": [
      "0.8575567358763883\n[[888 166]\n [129 888]]\n"
     ]
    }
   ],
   "source": [
    "print(metrics.accuracy_score(y_test, svc2_predicted))\n",
    "print(metrics.confusion_matrix(y_test, svc2_predicted))"
   ]
  },
  {
   "cell_type": "code",
   "execution_count": 37,
   "metadata": {},
   "outputs": [
    {
     "output_type": "stream",
     "name": "stdout",
     "text": [
      "0.7885079671656204\n[[728 326]\n [112 905]]\n              precision    recall  f1-score   support\n\n           0       0.87      0.69      0.77      1054\n           1       0.74      0.89      0.81      1017\n\n    accuracy                           0.79      2071\n   macro avg       0.80      0.79      0.79      2071\nweighted avg       0.80      0.79      0.79      2071\n\n"
     ]
    }
   ],
   "source": [
    "svc3 = SVC(kernel = 'linear',probability=True,C=0.001)\n",
    "svc3.fit(X_train_vec, y_train)\n",
    "svc3_predicted = svc3.predict(X_test_vec)\n",
    "print(metrics.accuracy_score(y_test, svc3_predicted))\n",
    "print(metrics.confusion_matrix(y_test, svc3_predicted))\n",
    "print(classification_report(y_test,svc3_predicted))"
   ]
  },
  {
   "cell_type": "code",
   "execution_count": 54,
   "metadata": {},
   "outputs": [
    {
     "output_type": "stream",
     "name": "stdout",
     "text": [
      "0.7735393529695799\n[[790 264]\n [205 812]]\n              precision    recall  f1-score   support\n\n           0       0.79      0.75      0.77      1054\n           1       0.75      0.80      0.78      1017\n\n    accuracy                           0.77      2071\n   macro avg       0.77      0.77      0.77      2071\nweighted avg       0.77      0.77      0.77      2071\n\n"
     ]
    }
   ],
   "source": [
    "#使用DT\n",
    "from sklearn import tree\n",
    "classfication_tree_DT = tree.DecisionTreeClassifier(criterion='entropy').fit(X_train_vec,y_train)\n",
    "p_DT = classfication_tree_DT.predict(X_test_vec)\n",
    "print(metrics.accuracy_score(y_test, p_DT))\n",
    "print(metrics.confusion_matrix(y_test, p_DT))\n",
    "print(classification_report(y_test,p_DT))"
   ]
  },
  {
   "cell_type": "code",
   "execution_count": 55,
   "metadata": {},
   "outputs": [
    {
     "output_type": "stream",
     "name": "stdout",
     "text": [
      "0.7373249637856109\n[[781 273]\n [271 746]]\n              precision    recall  f1-score   support\n\n           0       0.74      0.74      0.74      1054\n           1       0.73      0.73      0.73      1017\n\n    accuracy                           0.74      2071\n   macro avg       0.74      0.74      0.74      2071\nweighted avg       0.74      0.74      0.74      2071\n\n"
     ]
    }
   ],
   "source": [
    "#使用DT 限制深度\n",
    "from sklearn import tree\n",
    "classfication_tree_DT = tree.DecisionTreeClassifier(criterion='entropy',max_depth=10).fit(X_train_vec,y_train)\n",
    "p_DT = classfication_tree_DT.predict(X_test_vec)\n",
    "print(metrics.accuracy_score(y_test, p_DT))\n",
    "print(metrics.confusion_matrix(y_test, p_DT))\n",
    "print(classification_report(y_test,p_DT))"
   ]
  },
  {
   "cell_type": "code",
   "execution_count": 38,
   "metadata": {},
   "outputs": [
    {
     "output_type": "execute_result",
     "data": {
      "text/plain": [
       "0.8532407972406174"
      ]
     },
     "metadata": {},
     "execution_count": 38
    }
   ],
   "source": [
    "#使用管線 簡化步驟\n",
    "from sklearn.pipeline import make_pipeline\n",
    "\n",
    "nb = MultinomialNB()\n",
    "pipe = make_pipeline(CV2, nb)\n",
    "pipe.fit(X_train[\"評論斷詞\"], y_train)\n",
    "\n",
    "pipe_pred = pipe.predict(X_test[\"評論斷詞\"])\n",
    "metrics.accuracy_score(y_test, pipe_pred)\n",
    "\n",
    "#忽略警告\n",
    "warnings.filterwarnings(\"ignore\") \n",
    "#將資料分成 cv=5 組 去驗證和評分資料的準確度 將五次結果取平均\n",
    "cross_val_score(pipe, X_train[\"評論斷詞\"], y_train, cv=5, scoring='accuracy').mean()"
   ]
  },
  {
   "cell_type": "code",
   "execution_count": 39,
   "metadata": {},
   "outputs": [],
   "source": [
    "#使用snowNLP進行預測 跟前面做比較\n",
    "from snownlp import SnowNLP\n",
    "\n",
    "def get_sentiment(text):\n",
    "    return SnowNLP(text).sentiments"
   ]
  },
  {
   "cell_type": "code",
   "execution_count": 40,
   "metadata": {},
   "outputs": [],
   "source": [
    "#直接對訓練的測試資料(評論斷詞)進行情感分析 \n",
    "y_pred_snownlp = X_test[\"評論斷詞\"].apply(get_sentiment)"
   ]
  },
  {
   "cell_type": "code",
   "execution_count": 41,
   "metadata": {},
   "outputs": [
    {
     "output_type": "execute_result",
     "data": {
      "text/plain": [
       "0.6368903911154031"
      ]
     },
     "metadata": {},
     "execution_count": 41
    }
   ],
   "source": [
    "#將分析後高於0.5看成正向 低於的看成負向\n",
    "y_pred_snownlp_normalized = y_pred_snownlp.apply(lambda x: 1 if x>0.5 else 0)\n",
    "\n",
    "#預測結果和測試評分 計算準確度\n",
    "metrics.accuracy_score(y_test, y_pred_snownlp_normalized)"
   ]
  },
  {
   "cell_type": "code",
   "execution_count": 42,
   "metadata": {},
   "outputs": [
    {
     "output_type": "execute_result",
     "data": {
      "text/plain": [
       "array([[972,  82],\n",
       "       [670, 347]], dtype=int64)"
      ]
     },
     "metadata": {},
     "execution_count": 42
    }
   ],
   "source": [
    "#得到混淆矩陣矩陣\n",
    "metrics.confusion_matrix(y_test, y_pred_snownlp_normalized)"
   ]
  },
  {
   "cell_type": "code",
   "execution_count": null,
   "metadata": {},
   "outputs": [],
   "source": []
  }
 ]
}